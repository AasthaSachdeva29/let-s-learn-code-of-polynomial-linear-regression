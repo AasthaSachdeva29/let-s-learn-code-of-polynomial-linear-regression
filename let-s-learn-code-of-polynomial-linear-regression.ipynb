{
 "cells": [
  {
   "cell_type": "code",
   "execution_count": 1,
   "id": "98530317",
   "metadata": {
    "_cell_guid": "b1076dfc-b9ad-4769-8c92-a6c4dae69d19",
    "_uuid": "8f2839f25d086af736a60e9eeb907d3b93b6e0e5",
    "execution": {
     "iopub.execute_input": "2023-10-19T10:35:41.550700Z",
     "iopub.status.busy": "2023-10-19T10:35:41.550351Z",
     "iopub.status.idle": "2023-10-19T10:35:41.936641Z",
     "shell.execute_reply": "2023-10-19T10:35:41.935383Z"
    },
    "papermill": {
     "duration": 0.398073,
     "end_time": "2023-10-19T10:35:41.939321",
     "exception": false,
     "start_time": "2023-10-19T10:35:41.541248",
     "status": "completed"
    },
    "tags": []
   },
   "outputs": [],
   "source": [
    "# This Python 3 environment comes with many helpful analytics libraries installed\n",
    "# It is defined by the kaggle/python Docker image: https://github.com/kaggle/docker-python\n",
    "# For example, here's several helpful packages to load\n",
    "\n",
    "import numpy as np # linear algebra\n",
    "import pandas as pd # data processing, CSV file I/O (e.g. pd.read_csv)\n",
    "\n",
    "# Input data files are available in the read-only \"../input/\" directory\n",
    "# For example, running this (by clicking run or pressing Shift+Enter) will list all files under the input directory\n",
    "\n",
    "import os\n",
    "for dirname, _, filenames in os.walk('/kaggle/input'):\n",
    "    for filename in filenames:\n",
    "        print(os.path.join(dirname, filename))\n",
    "\n",
    "# You can write up to 20GB to the current directory (/kaggle/working/) that gets preserved as output when you create a version using \"Save & Run All\" \n",
    "# You can also write temporary files to /kaggle/temp/, but they won't be saved outside of the current session"
   ]
  },
  {
   "cell_type": "code",
   "execution_count": 2,
   "id": "8767915c",
   "metadata": {
    "execution": {
     "iopub.execute_input": "2023-10-19T10:35:41.955523Z",
     "iopub.status.busy": "2023-10-19T10:35:41.955022Z",
     "iopub.status.idle": "2023-10-19T10:35:43.540071Z",
     "shell.execute_reply": "2023-10-19T10:35:43.538979Z"
    },
    "papermill": {
     "duration": 1.59581,
     "end_time": "2023-10-19T10:35:43.542437",
     "exception": false,
     "start_time": "2023-10-19T10:35:41.946627",
     "status": "completed"
    },
    "tags": []
   },
   "outputs": [],
   "source": [
    "import numpy as np\n",
    "import matplotlib.pyplot as plt \n",
    "\n",
    "from sklearn.model_selection import train_test_split\n",
    "from sklearn.linear_model import LinearRegression, SGDRegressor \n",
    "from sklearn.preprocessing import PolynomialFeatures, StandardScaler\n",
    "from sklearn.metrics import r2_score \n",
    "from sklearn.pipeline import Pipeline "
   ]
  },
  {
   "cell_type": "markdown",
   "id": "520a0417",
   "metadata": {
    "execution": {
     "iopub.execute_input": "2023-10-19T08:59:04.250375Z",
     "iopub.status.busy": "2023-10-19T08:59:04.249931Z",
     "iopub.status.idle": "2023-10-19T08:59:04.256203Z",
     "shell.execute_reply": "2023-10-19T08:59:04.255001Z",
     "shell.execute_reply.started": "2023-10-19T08:59:04.250344Z"
    },
    "papermill": {
     "duration": 0.006846,
     "end_time": "2023-10-19T10:35:43.556633",
     "exception": false,
     "start_time": "2023-10-19T10:35:43.549787",
     "status": "completed"
    },
    "tags": []
   },
   "source": [
    "# GENERATE YOUR OWN MAGICAL DATASET"
   ]
  },
  {
   "cell_type": "code",
   "execution_count": 3,
   "id": "1aea7fe0",
   "metadata": {
    "execution": {
     "iopub.execute_input": "2023-10-19T10:35:43.573166Z",
     "iopub.status.busy": "2023-10-19T10:35:43.572108Z",
     "iopub.status.idle": "2023-10-19T10:35:43.578005Z",
     "shell.execute_reply": "2023-10-19T10:35:43.576564Z"
    },
    "papermill": {
     "duration": 0.01638,
     "end_time": "2023-10-19T10:35:43.580212",
     "exception": false,
     "start_time": "2023-10-19T10:35:43.563832",
     "status": "completed"
    },
    "tags": []
   },
   "outputs": [],
   "source": [
    "X = 6* np.random.rand(200,1)-3\n",
    "y = 0.8 * X**2 + 0.9 *X + 2 + np.random.randn(200,1)\n"
   ]
  },
  {
   "cell_type": "code",
   "execution_count": 4,
   "id": "100c17e0",
   "metadata": {
    "execution": {
     "iopub.execute_input": "2023-10-19T10:35:43.596808Z",
     "iopub.status.busy": "2023-10-19T10:35:43.596101Z",
     "iopub.status.idle": "2023-10-19T10:35:43.929388Z",
     "shell.execute_reply": "2023-10-19T10:35:43.928213Z"
    },
    "papermill": {
     "duration": 0.344136,
     "end_time": "2023-10-19T10:35:43.931589",
     "exception": false,
     "start_time": "2023-10-19T10:35:43.587453",
     "status": "completed"
    },
    "tags": []
   },
   "outputs": [
    {
     "data": {
      "image/png": "[encoded data removed]",
      "text/plain": [
       "<Figure size 640x480 with 1 Axes>"
      ]
     },
     "metadata": {},
     "output_type": "display_data"
    }
   ],
   "source": [
    "plt.plot(X, y, 'b.')\n",
    "plt.show()"
   ]
  },
  {
   "cell_type": "markdown",
   "id": "f0fd682d",
   "metadata": {
    "execution": {
     "iopub.execute_input": "2023-10-19T09:15:01.108207Z",
     "iopub.status.busy": "2023-10-19T09:15:01.107842Z",
     "iopub.status.idle": "2023-10-19T09:15:01.113745Z",
     "shell.execute_reply": "2023-10-19T09:15:01.112343Z",
     "shell.execute_reply.started": "2023-10-19T09:15:01.108181Z"
    },
    "papermill": {
     "duration": 0.007064,
     "end_time": "2023-10-19T10:35:43.946179",
     "exception": false,
     "start_time": "2023-10-19T10:35:43.939115",
     "status": "completed"
    },
    "tags": []
   },
   "source": [
    "# First applying linear regression"
   ]
  },
  {
   "cell_type": "code",
   "execution_count": 5,
   "id": "dfd44eeb",
   "metadata": {
    "execution": {
     "iopub.execute_input": "2023-10-19T10:35:43.962728Z",
     "iopub.status.busy": "2023-10-19T10:35:43.962315Z",
     "iopub.status.idle": "2023-10-19T10:35:43.968329Z",
     "shell.execute_reply": "2023-10-19T10:35:43.967151Z"
    },
    "papermill": {
     "duration": 0.016813,
     "end_time": "2023-10-19T10:35:43.970397",
     "exception": false,
     "start_time": "2023-10-19T10:35:43.953584",
     "status": "completed"
    },
    "tags": []
   },
   "outputs": [],
   "source": [
    "X_train,X_test,y_train,y_test = train_test_split(X,y,test_size= 0.2,random_state=2)"
   ]
  },
  {
   "cell_type": "code",
   "execution_count": 6,
   "id": "57ab216f",
   "metadata": {
    "execution": {
     "iopub.execute_input": "2023-10-19T10:35:43.986996Z",
     "iopub.status.busy": "2023-10-19T10:35:43.986607Z",
     "iopub.status.idle": "2023-10-19T10:35:43.991145Z",
     "shell.execute_reply": "2023-10-19T10:35:43.989915Z"
    },
    "papermill": {
     "duration": 0.015515,
     "end_time": "2023-10-19T10:35:43.993412",
     "exception": false,
     "start_time": "2023-10-19T10:35:43.977897",
     "status": "completed"
    },
    "tags": []
   },
   "outputs": [],
   "source": [
    "lr = LinearRegression()"
   ]
  },
  {
   "cell_type": "code",
   "execution_count": 7,
   "id": "b22f6779",
   "metadata": {
    "execution": {
     "iopub.execute_input": "2023-10-19T10:35:44.010569Z",
     "iopub.status.busy": "2023-10-19T10:35:44.009935Z",
     "iopub.status.idle": "2023-10-19T10:35:44.043041Z",
     "shell.execute_reply": "2023-10-19T10:35:44.041928Z"
    },
    "papermill": {
     "duration": 0.044272,
     "end_time": "2023-10-19T10:35:44.045497",
     "exception": false,
     "start_time": "2023-10-19T10:35:44.001225",
     "status": "completed"
    },
    "tags": []
   },
   "outputs": [
    {
     "data": {
      "text/html": [
       "<style>#sk-container-id-1 {color: black;background-color: white;}#sk-container-id-1 pre{padding: 0;}#sk-container-id-1 div.sk-toggleable {background-color: white;}#sk-container-id-1 label.sk-toggleable__label {cursor: pointer;display: block;width: 100%;margin-bottom: 0;padding: 0.3em;box-sizing: border-box;text-align: center;}#sk-container-id-1 label.sk-toggleable__label-arrow:before {content: \"▸\";float: left;margin-right: 0.25em;color: #696969;}#sk-container-id-1 label.sk-toggleable__label-arrow:hover:before {color: black;}#sk-container-id-1 div.sk-estimator:hover label.sk-toggleable__label-arrow:before {color: black;}#sk-container-id-1 div.sk-toggleable__content {max-height: 0;max-width: 0;overflow: hidden;text-align: left;background-color: #f0f8ff;}#sk-container-id-1 div.sk-toggleable__content pre {margin: 0.2em;color: black;border-radius: 0.25em;background-color: #f0f8ff;}#sk-container-id-1 input.sk-toggleable__control:checked~div.sk-toggleable__content {max-height: 200px;max-width: 100%;overflow: auto;}#sk-container-id-1 input.sk-toggleable__control:checked~label.sk-toggleable__label-arrow:before {content: \"▾\";}#sk-container-id-1 div.sk-estimator input.sk-toggleable__control:checked~label.sk-toggleable__label {background-color: #d4ebff;}#sk-container-id-1 div.sk-label input.sk-toggleable__control:checked~label.sk-toggleable__label {background-color: #d4ebff;}#sk-container-id-1 input.sk-hidden--visually {border: 0;clip: rect(1px 1px 1px 1px);clip: rect(1px, 1px, 1px, 1px);height: 1px;margin: -1px;overflow: hidden;padding: 0;position: absolute;width: 1px;}#sk-container-id-1 div.sk-estimator {font-family: monospace;background-color: #f0f8ff;border: 1px dotted black;border-radius: 0.25em;box-sizing: border-box;margin-bottom: 0.5em;}#sk-container-id-1 div.sk-estimator:hover {background-color: #d4ebff;}#sk-container-id-1 div.sk-parallel-item::after {content: \"\";width: 100%;border-bottom: 1px solid gray;flex-grow: 1;}#sk-container-id-1 div.sk-label:hover label.sk-toggleable__label {background-color: #d4ebff;}#sk-container-id-1 div.sk-serial::before {content: \"\";position: absolute;border-left: 1px solid gray;box-sizing: border-box;top: 0;bottom: 0;left: 50%;z-index: 0;}#sk-container-id-1 div.sk-serial {display: flex;flex-direction: column;align-items: center;background-color: white;padding-right: 0.2em;padding-left: 0.2em;position: relative;}#sk-container-id-1 div.sk-item {position: relative;z-index: 1;}#sk-container-id-1 div.sk-parallel {display: flex;align-items: stretch;justify-content: center;background-color: white;position: relative;}#sk-container-id-1 div.sk-item::before, #sk-container-id-1 div.sk-parallel-item::before {content: \"\";position: absolute;border-left: 1px solid gray;box-sizing: border-box;top: 0;bottom: 0;left: 50%;z-index: -1;}#sk-container-id-1 div.sk-parallel-item {display: flex;flex-direction: column;z-index: 1;position: relative;background-color: white;}#sk-container-id-1 div.sk-parallel-item:first-child::after {align-self: flex-end;width: 50%;}#sk-container-id-1 div.sk-parallel-item:last-child::after {align-self: flex-start;width: 50%;}#sk-container-id-1 div.sk-parallel-item:only-child::after {width: 0;}#sk-container-id-1 div.sk-dashed-wrapped {border: 1px dashed gray;margin: 0 0.4em 0.5em 0.4em;box-sizing: border-box;padding-bottom: 0.4em;background-color: white;}#sk-container-id-1 div.sk-label label {font-family: monospace;font-weight: bold;display: inline-block;line-height: 1.2em;}#sk-container-id-1 div.sk-label-container {text-align: center;}#sk-container-id-1 div.sk-container {/* jupyter's `normalize.less` sets `[hidden] { display: none; }` but bootstrap.min.css set `[hidden] { display: none !important; }` so we also need the `!important` here to be able to override the default hidden behavior on the sphinx rendered scikit-learn.org. See: https://github.com/scikit-learn/scikit-learn/issues/21755 */display: inline-block !important;position: relative;}#sk-container-id-1 div.sk-text-repr-fallback {display: none;}</style><div id=\"sk-container-id-1\" class=\"sk-top-container\"><div class=\"sk-text-repr-fallback\"><pre>LinearRegression()</pre><b>In a Jupyter environment, please rerun this cell to show the HTML representation or trust the notebook. <br />On GitHub, the HTML representation is unable to render, please try loading this page with nbviewer.org.</b></div><div class=\"sk-container\" hidden><div class=\"sk-item\"><div class=\"sk-estimator sk-toggleable\"><input class=\"sk-toggleable__control sk-hidden--visually\" id=\"sk-estimator-id-1\" type=\"checkbox\" checked><label for=\"sk-estimator-id-1\" class=\"sk-toggleable__label sk-toggleable__label-arrow\">LinearRegression</label><div class=\"sk-toggleable__content\"><pre>LinearRegression()</pre></div></div></div></div></div>"
      ],
      "text/plain": [
       "LinearRegression()"
      ]
     },
     "execution_count": 7,
     "metadata": {},
     "output_type": "execute_result"
    }
   ],
   "source": [
    "lr.fit(X_train,y_train)"
   ]
  },
  {
   "cell_type": "code",
   "execution_count": 8,
   "id": "09ffa981",
   "metadata": {
    "execution": {
     "iopub.execute_input": "2023-10-19T10:35:44.063354Z",
     "iopub.status.busy": "2023-10-19T10:35:44.062773Z",
     "iopub.status.idle": "2023-10-19T10:35:44.069968Z",
     "shell.execute_reply": "2023-10-19T10:35:44.068923Z"
    },
    "papermill": {
     "duration": 0.018298,
     "end_time": "2023-10-19T10:35:44.071890",
     "exception": false,
     "start_time": "2023-10-19T10:35:44.053592",
     "status": "completed"
    },
    "tags": []
   },
   "outputs": [
    {
     "data": {
      "text/plain": [
       "0.32397216878504387"
      ]
     },
     "execution_count": 8,
     "metadata": {},
     "output_type": "execute_result"
    }
   ],
   "source": [
    "y_pred = lr.predict(X_test)\n",
    "r2_score(y_test,y_pred)"
   ]
  },
  {
   "cell_type": "code",
   "execution_count": 9,
   "id": "bc8ee991",
   "metadata": {
    "execution": {
     "iopub.execute_input": "2023-10-19T10:35:44.089597Z",
     "iopub.status.busy": "2023-10-19T10:35:44.088905Z",
     "iopub.status.idle": "2023-10-19T10:35:44.241171Z",
     "shell.execute_reply": "2023-10-19T10:35:44.240223Z"
    },
    "papermill": {
     "duration": 0.16377,
     "end_time": "2023-10-19T10:35:44.243522",
     "exception": false,
     "start_time": "2023-10-19T10:35:44.079752",
     "status": "completed"
    },
    "tags": []
   },
   "outputs": [
    {
     "data": {
      "image/png": "[encoded data removed]",
      "text/plain": [
       "<Figure size 640x480 with 1 Axes>"
      ]
     },
     "metadata": {},
     "output_type": "display_data"
    }
   ],
   "source": [
    "plt.plot(X_train,lr.predict(X_train),color='r')\n",
    "plt.plot(X,y,'b. ')\n",
    "plt.show()"
   ]
  },
  {
   "cell_type": "markdown",
   "id": "64c9949e",
   "metadata": {
    "papermill": {
     "duration": 0.007736,
     "end_time": "2023-10-19T10:35:44.260159",
     "exception": false,
     "start_time": "2023-10-19T10:35:44.252423",
     "status": "completed"
    },
    "tags": []
   },
   "source": [
    "# Now applying 2D polynomial regression "
   ]
  },
  {
   "cell_type": "code",
   "execution_count": 10,
   "id": "c3d59a7e",
   "metadata": {
    "execution": {
     "iopub.execute_input": "2023-10-19T10:35:44.279108Z",
     "iopub.status.busy": "2023-10-19T10:35:44.278289Z",
     "iopub.status.idle": "2023-10-19T10:35:44.284767Z",
     "shell.execute_reply": "2023-10-19T10:35:44.283712Z"
    },
    "papermill": {
     "duration": 0.018488,
     "end_time": "2023-10-19T10:35:44.287066",
     "exception": false,
     "start_time": "2023-10-19T10:35:44.268578",
     "status": "completed"
    },
    "tags": []
   },
   "outputs": [],
   "source": [
    "# Using degree 2\n",
    "\n",
    "poly = PolynomialFeatures(degree = 2, include_bias = True)\n",
    "\n",
    "X_train_trans = poly.fit_transform(X_train)\n",
    "X_test_trans = poly.transform(X_test)"
   ]
  },
  {
   "cell_type": "code",
   "execution_count": 11,
   "id": "bd812a06",
   "metadata": {
    "execution": {
     "iopub.execute_input": "2023-10-19T10:35:44.305319Z",
     "iopub.status.busy": "2023-10-19T10:35:44.304590Z",
     "iopub.status.idle": "2023-10-19T10:35:44.311230Z",
     "shell.execute_reply": "2023-10-19T10:35:44.310002Z"
    },
    "papermill": {
     "duration": 0.018037,
     "end_time": "2023-10-19T10:35:44.313146",
     "exception": false,
     "start_time": "2023-10-19T10:35:44.295109",
     "status": "completed"
    },
    "tags": []
   },
   "outputs": [
    {
     "name": "stdout",
     "output_type": "stream",
     "text": [
      "[1.06510945]\n",
      "[1.         1.06510945 1.13445814]\n"
     ]
    }
   ],
   "source": [
    "print(X_train[0])\n",
    "print(X_train_trans[0])"
   ]
  },
  {
   "cell_type": "code",
   "execution_count": 12,
   "id": "3f5fd218",
   "metadata": {
    "execution": {
     "iopub.execute_input": "2023-10-19T10:35:44.331572Z",
     "iopub.status.busy": "2023-10-19T10:35:44.330803Z",
     "iopub.status.idle": "2023-10-19T10:35:44.335646Z",
     "shell.execute_reply": "2023-10-19T10:35:44.334553Z"
    },
    "papermill": {
     "duration": 0.016659,
     "end_time": "2023-10-19T10:35:44.337728",
     "exception": false,
     "start_time": "2023-10-19T10:35:44.321069",
     "status": "completed"
    },
    "tags": []
   },
   "outputs": [],
   "source": [
    "# include bias parameter "
   ]
  },
  {
   "cell_type": "code",
   "execution_count": 13,
   "id": "646b1551",
   "metadata": {
    "execution": {
     "iopub.execute_input": "2023-10-19T10:35:44.355529Z",
     "iopub.status.busy": "2023-10-19T10:35:44.355156Z",
     "iopub.status.idle": "2023-10-19T10:35:44.372622Z",
     "shell.execute_reply": "2023-10-19T10:35:44.371759Z"
    },
    "papermill": {
     "duration": 0.028942,
     "end_time": "2023-10-19T10:35:44.374791",
     "exception": false,
     "start_time": "2023-10-19T10:35:44.345849",
     "status": "completed"
    },
    "tags": []
   },
   "outputs": [
    {
     "data": {
      "text/html": [
       "<style>#sk-container-id-2 {color: black;background-color: white;}#sk-container-id-2 pre{padding: 0;}#sk-container-id-2 div.sk-toggleable {background-color: white;}#sk-container-id-2 label.sk-toggleable__label {cursor: pointer;display: block;width: 100%;margin-bottom: 0;padding: 0.3em;box-sizing: border-box;text-align: center;}#sk-container-id-2 label.sk-toggleable__label-arrow:before {content: \"▸\";float: left;margin-right: 0.25em;color: #696969;}#sk-container-id-2 label.sk-toggleable__label-arrow:hover:before {color: black;}#sk-container-id-2 div.sk-estimator:hover label.sk-toggleable__label-arrow:before {color: black;}#sk-container-id-2 div.sk-toggleable__content {max-height: 0;max-width: 0;overflow: hidden;text-align: left;background-color: #f0f8ff;}#sk-container-id-2 div.sk-toggleable__content pre {margin: 0.2em;color: black;border-radius: 0.25em;background-color: #f0f8ff;}#sk-container-id-2 input.sk-toggleable__control:checked~div.sk-toggleable__content {max-height: 200px;max-width: 100%;overflow: auto;}#sk-container-id-2 input.sk-toggleable__control:checked~label.sk-toggleable__label-arrow:before {content: \"▾\";}#sk-container-id-2 div.sk-estimator input.sk-toggleable__control:checked~label.sk-toggleable__label {background-color: #d4ebff;}#sk-container-id-2 div.sk-label input.sk-toggleable__control:checked~label.sk-toggleable__label {background-color: #d4ebff;}#sk-container-id-2 input.sk-hidden--visually {border: 0;clip: rect(1px 1px 1px 1px);clip: rect(1px, 1px, 1px, 1px);height: 1px;margin: -1px;overflow: hidden;padding: 0;position: absolute;width: 1px;}#sk-container-id-2 div.sk-estimator {font-family: monospace;background-color: #f0f8ff;border: 1px dotted black;border-radius: 0.25em;box-sizing: border-box;margin-bottom: 0.5em;}#sk-container-id-2 div.sk-estimator:hover {background-color: #d4ebff;}#sk-container-id-2 div.sk-parallel-item::after {content: \"\";width: 100%;border-bottom: 1px solid gray;flex-grow: 1;}#sk-container-id-2 div.sk-label:hover label.sk-toggleable__label {background-color: #d4ebff;}#sk-container-id-2 div.sk-serial::before {content: \"\";position: absolute;border-left: 1px solid gray;box-sizing: border-box;top: 0;bottom: 0;left: 50%;z-index: 0;}#sk-container-id-2 div.sk-serial {display: flex;flex-direction: column;align-items: center;background-color: white;padding-right: 0.2em;padding-left: 0.2em;position: relative;}#sk-container-id-2 div.sk-item {position: relative;z-index: 1;}#sk-container-id-2 div.sk-parallel {display: flex;align-items: stretch;justify-content: center;background-color: white;position: relative;}#sk-container-id-2 div.sk-item::before, #sk-container-id-2 div.sk-parallel-item::before {content: \"\";position: absolute;border-left: 1px solid gray;box-sizing: border-box;top: 0;bottom: 0;left: 50%;z-index: -1;}#sk-container-id-2 div.sk-parallel-item {display: flex;flex-direction: column;z-index: 1;position: relative;background-color: white;}#sk-container-id-2 div.sk-parallel-item:first-child::after {align-self: flex-end;width: 50%;}#sk-container-id-2 div.sk-parallel-item:last-child::after {align-self: flex-start;width: 50%;}#sk-container-id-2 div.sk-parallel-item:only-child::after {width: 0;}#sk-container-id-2 div.sk-dashed-wrapped {border: 1px dashed gray;margin: 0 0.4em 0.5em 0.4em;box-sizing: border-box;padding-bottom: 0.4em;background-color: white;}#sk-container-id-2 div.sk-label label {font-family: monospace;font-weight: bold;display: inline-block;line-height: 1.2em;}#sk-container-id-2 div.sk-label-container {text-align: center;}#sk-container-id-2 div.sk-container {/* jupyter's `normalize.less` sets `[hidden] { display: none; }` but bootstrap.min.css set `[hidden] { display: none !important; }` so we also need the `!important` here to be able to override the default hidden behavior on the sphinx rendered scikit-learn.org. See: https://github.com/scikit-learn/scikit-learn/issues/21755 */display: inline-block !important;position: relative;}#sk-container-id-2 div.sk-text-repr-fallback {display: none;}</style><div id=\"sk-container-id-2\" class=\"sk-top-container\"><div class=\"sk-text-repr-fallback\"><pre>LinearRegression()</pre><b>In a Jupyter environment, please rerun this cell to show the HTML representation or trust the notebook. <br />On GitHub, the HTML representation is unable to render, please try loading this page with nbviewer.org.</b></div><div class=\"sk-container\" hidden><div class=\"sk-item\"><div class=\"sk-estimator sk-toggleable\"><input class=\"sk-toggleable__control sk-hidden--visually\" id=\"sk-estimator-id-2\" type=\"checkbox\" checked><label for=\"sk-estimator-id-2\" class=\"sk-toggleable__label sk-toggleable__label-arrow\">LinearRegression</label><div class=\"sk-toggleable__content\"><pre>LinearRegression()</pre></div></div></div></div></div>"
      ],
      "text/plain": [
       "LinearRegression()"
      ]
     },
     "execution_count": 13,
     "metadata": {},
     "output_type": "execute_result"
    }
   ],
   "source": [
    "lr = LinearRegression()\n",
    "lr.fit(X_train_trans, y_train)"
   ]
  },
  {
   "cell_type": "code",
   "execution_count": 14,
   "id": "b18e033c",
   "metadata": {
    "execution": {
     "iopub.execute_input": "2023-10-19T10:35:44.392892Z",
     "iopub.status.busy": "2023-10-19T10:35:44.392504Z",
     "iopub.status.idle": "2023-10-19T10:35:44.397716Z",
     "shell.execute_reply": "2023-10-19T10:35:44.396458Z"
    },
    "papermill": {
     "duration": 0.016553,
     "end_time": "2023-10-19T10:35:44.399634",
     "exception": false,
     "start_time": "2023-10-19T10:35:44.383081",
     "status": "completed"
    },
    "tags": []
   },
   "outputs": [],
   "source": [
    "y_pred = lr.predict(X_test_trans)"
   ]
  },
  {
   "cell_type": "code",
   "execution_count": 15,
   "id": "f150a468",
   "metadata": {
    "execution": {
     "iopub.execute_input": "2023-10-19T10:35:44.418802Z",
     "iopub.status.busy": "2023-10-19T10:35:44.417677Z",
     "iopub.status.idle": "2023-10-19T10:35:44.425460Z",
     "shell.execute_reply": "2023-10-19T10:35:44.424337Z"
    },
    "papermill": {
     "duration": 0.019426,
     "end_time": "2023-10-19T10:35:44.427517",
     "exception": false,
     "start_time": "2023-10-19T10:35:44.408091",
     "status": "completed"
    },
    "tags": []
   },
   "outputs": [
    {
     "data": {
      "text/plain": [
       "0.8934121192570245"
      ]
     },
     "execution_count": 15,
     "metadata": {},
     "output_type": "execute_result"
    }
   ],
   "source": [
    "r2_score(y_test,y_pred)"
   ]
  },
  {
   "cell_type": "code",
   "execution_count": 16,
   "id": "c81ef3ca",
   "metadata": {
    "execution": {
     "iopub.execute_input": "2023-10-19T10:35:44.447160Z",
     "iopub.status.busy": "2023-10-19T10:35:44.446192Z",
     "iopub.status.idle": "2023-10-19T10:35:44.452618Z",
     "shell.execute_reply": "2023-10-19T10:35:44.451464Z"
    },
    "papermill": {
     "duration": 0.018307,
     "end_time": "2023-10-19T10:35:44.454802",
     "exception": false,
     "start_time": "2023-10-19T10:35:44.436495",
     "status": "completed"
    },
    "tags": []
   },
   "outputs": [
    {
     "name": "stdout",
     "output_type": "stream",
     "text": [
      "[[0.         0.94525136 0.81029864]]\n",
      "[1.94419316]\n"
     ]
    }
   ],
   "source": [
    "print(lr.coef_)\n",
    "print(lr.intercept_)"
   ]
  },
  {
   "cell_type": "code",
   "execution_count": 17,
   "id": "3f975aca",
   "metadata": {
    "execution": {
     "iopub.execute_input": "2023-10-19T10:35:44.473554Z",
     "iopub.status.busy": "2023-10-19T10:35:44.473079Z",
     "iopub.status.idle": "2023-10-19T10:35:44.478919Z",
     "shell.execute_reply": "2023-10-19T10:35:44.477827Z"
    },
    "papermill": {
     "duration": 0.017981,
     "end_time": "2023-10-19T10:35:44.481302",
     "exception": false,
     "start_time": "2023-10-19T10:35:44.463321",
     "status": "completed"
    },
    "tags": []
   },
   "outputs": [],
   "source": [
    "X_new=np.linspace(-3, 3, 200).reshape(200, 1)\n",
    "X_new_poly = poly.transform(X_new)\n",
    "y_new = lr.predict(X_new_poly)"
   ]
  },
  {
   "cell_type": "code",
   "execution_count": 18,
   "id": "824a4f97",
   "metadata": {
    "execution": {
     "iopub.execute_input": "2023-10-19T10:35:44.500804Z",
     "iopub.status.busy": "2023-10-19T10:35:44.500289Z",
     "iopub.status.idle": "2023-10-19T10:35:44.769906Z",
     "shell.execute_reply": "2023-10-19T10:35:44.768672Z"
    },
    "papermill": {
     "duration": 0.282109,
     "end_time": "2023-10-19T10:35:44.772278",
     "exception": false,
     "start_time": "2023-10-19T10:35:44.490169",
     "status": "completed"
    },
    "tags": []
   },
   "outputs": [
    {
     "data": {
      "image/png": "[encoded data removed]",
      "text/plain": [
       "<Figure size 640x480 with 1 Axes>"
      ]
     },
     "metadata": {},
     "output_type": "display_data"
    }
   ],
   "source": [
    "plt.plot(X_new, y_new, \"r-\", linewidth=2, label=\"Predictions\")\n",
    "plt.plot(X_train, y_train, \"b.\",label='Training points')\n",
    "plt.plot(X_test, y_test, \"g.\",label='Testing points')\n",
    "plt.xlabel(\"X\")\n",
    "plt.ylabel(\"y\")\n",
    "plt.legend()\n",
    "plt.show()"
   ]
  },
  {
   "cell_type": "code",
   "execution_count": 19,
   "id": "a6d97de5",
   "metadata": {
    "execution": {
     "iopub.execute_input": "2023-10-19T10:35:44.792235Z",
     "iopub.status.busy": "2023-10-19T10:35:44.791891Z",
     "iopub.status.idle": "2023-10-19T10:35:44.799322Z",
     "shell.execute_reply": "2023-10-19T10:35:44.798181Z"
    },
    "papermill": {
     "duration": 0.020016,
     "end_time": "2023-10-19T10:35:44.801556",
     "exception": false,
     "start_time": "2023-10-19T10:35:44.781540",
     "status": "completed"
    },
    "tags": []
   },
   "outputs": [],
   "source": [
    "def polynomial_regression(degree):\n",
    "    X_new=np.linspace(-3, 3, 100).reshape(100, 1)\n",
    "    X_new_poly = poly.transform(X_new)\n",
    "\n",
    "    polybig_features = PolynomialFeatures(degree=degree, include_bias=False)\n",
    "    std_scaler = StandardScaler()\n",
    "    lin_reg = LinearRegression()\n",
    "    polynomial_regression = Pipeline([\n",
    "            (\"poly_features\", polybig_features),\n",
    "            (\"std_scaler\", std_scaler),\n",
    "            (\"lin_reg\", lin_reg),\n",
    "        ])\n",
    "    polynomial_regression.fit(X, y)\n",
    "    y_newbig = polynomial_regression.predict(X_new)\n",
    "    plt.plot(X_new, y_newbig,'r', label=\"Degree \" + str(degree), linewidth=2)\n",
    "\n",
    "    plt.plot(X_train, y_train, \"b.\", linewidth=3)\n",
    "    plt.plot(X_test, y_test, \"g.\", linewidth=3)\n",
    "    plt.legend(loc=\"upper left\")\n",
    "    plt.xlabel(\"X\")\n",
    "    plt.ylabel(\"y\")\n",
    "    plt.axis([-3, 3, 0, 10])\n",
    "    plt.show()"
   ]
  },
  {
   "cell_type": "code",
   "execution_count": 20,
   "id": "135445f8",
   "metadata": {
    "execution": {
     "iopub.execute_input": "2023-10-19T10:35:44.821207Z",
     "iopub.status.busy": "2023-10-19T10:35:44.820862Z",
     "iopub.status.idle": "2023-10-19T10:35:45.054541Z",
     "shell.execute_reply": "2023-10-19T10:35:45.053305Z"
    },
    "papermill": {
     "duration": 0.24655,
     "end_time": "2023-10-19T10:35:45.057124",
     "exception": false,
     "start_time": "2023-10-19T10:35:44.810574",
     "status": "completed"
    },
    "tags": []
   },
   "outputs": [
    {
     "data": {
      "image/png": "[encoded data removed]",
      "text/plain": [
       "<Figure size 640x480 with 1 Axes>"
      ]
     },
     "metadata": {},
     "output_type": "display_data"
    }
   ],
   "source": [
    "polynomial_regression(4)\n"
   ]
  },
  {
   "cell_type": "code",
   "execution_count": 21,
   "id": "02e25d6a",
   "metadata": {
    "execution": {
     "iopub.execute_input": "2023-10-19T10:35:45.078315Z",
     "iopub.status.busy": "2023-10-19T10:35:45.077972Z",
     "iopub.status.idle": "2023-10-19T10:35:45.085010Z",
     "shell.execute_reply": "2023-10-19T10:35:45.083706Z"
    },
    "papermill": {
     "duration": 0.02015,
     "end_time": "2023-10-19T10:35:45.086952",
     "exception": false,
     "start_time": "2023-10-19T10:35:45.066802",
     "status": "completed"
    },
    "tags": []
   },
   "outputs": [
    {
     "data": {
      "text/plain": [
       "array([[0],\n",
       "       [1],\n",
       "       [2]])"
      ]
     },
     "execution_count": 21,
     "metadata": {},
     "output_type": "execute_result"
    }
   ],
   "source": [
    "poly.powers_"
   ]
  },
  {
   "cell_type": "markdown",
   "id": "2e6a1e06",
   "metadata": {
    "papermill": {
     "duration": 0.009574,
     "end_time": "2023-10-19T10:35:45.168292",
     "exception": false,
     "start_time": "2023-10-19T10:35:45.158718",
     "status": "completed"
    },
    "tags": []
   },
   "source": [
    "# Let's apply 3D polynomial regression"
   ]
  },
  {
   "cell_type": "code",
   "execution_count": 22,
   "id": "516ea9f0",
   "metadata": {
    "execution": {
     "iopub.execute_input": "2023-10-19T10:35:45.190150Z",
     "iopub.status.busy": "2023-10-19T10:35:45.189429Z",
     "iopub.status.idle": "2023-10-19T10:35:45.195018Z",
     "shell.execute_reply": "2023-10-19T10:35:45.193892Z"
    },
    "papermill": {
     "duration": 0.019445,
     "end_time": "2023-10-19T10:35:45.197675",
     "exception": false,
     "start_time": "2023-10-19T10:35:45.178230",
     "status": "completed"
    },
    "tags": []
   },
   "outputs": [],
   "source": [
    "x = 7* np.random.rand(100,1)-2.8\n",
    "y = 7* np.random.rand(100,1)-2.8\n",
    "\n",
    "z = x**2 +y**2 + 0.2*x + 0.2*y+ 0.1*x*y+ 2 + np.random.randn(100,1)"
   ]
  },
  {
   "cell_type": "code",
   "execution_count": 23,
   "id": "957be052",
   "metadata": {
    "execution": {
     "iopub.execute_input": "2023-10-19T10:35:45.220134Z",
     "iopub.status.busy": "2023-10-19T10:35:45.219395Z",
     "iopub.status.idle": "2023-10-19T10:35:48.018130Z",
     "shell.execute_reply": "2023-10-19T10:35:48.016827Z"
    },
    "papermill": {
     "duration": 2.812345,
     "end_time": "2023-10-19T10:35:48.020537",
     "exception": false,
     "start_time": "2023-10-19T10:35:45.208192",
     "status": "completed"
    },
    "tags": []
   },
   "outputs": [
    {
     "data": {
      "text/html": [
       "        <script type=\"text/javascript\">\n",
       "        window.PlotlyConfig = {MathJaxConfig: 'local'};\n",
       "        if (window.MathJax && window.MathJax.Hub && window.MathJax.Hub.Config) {window.MathJax.Hub.Config({SVG: {font: \"STIX-Web\"}});}\n",
       "        if (typeof require !== 'undefined') {\n",
       "        require.undef(\"plotly\");\n",
       "        requirejs.config({\n",
       "            paths: {\n",
       "                'plotly': ['https://cdn.plot.ly/plotly-2.24.1.min']\n",
       "            }\n",
       "        });\n",
       "        require(['plotly'], function(Plotly) {\n",
       "            window._Plotly = Plotly;\n",
       "        });\n",
       "        }\n",
       "        </script>\n",
       "        "
      ]
     },
     "metadata": {},
     "output_type": "display_data"
    },
    {
     "data": {
      "text/html": [
       "<div>                            <div id=\"88c348bc-568e-4be7-91a2-2529c656c01d\" class=\"plotly-graph-div\" style=\"height:525px; width:100%;\"></div>            <script type=\"text/javascript\">                require([\"plotly\"], function(Plotly) {                    window.PLOTLYENV=window.PLOTLYENV || {};                                    if (document.getElementById(\"88c348bc-568e-4be7-91a2-2529c656c01d\")) {                    Plotly.newPlot(                        \"88c348bc-568e-4be7-91a2-2529c656c01d\",                        [{\"hovertemplate\":\"x=%{x}\\u003cbr\\u003ey=%{y}\\u003cbr\\u003ez=%{z}\\u003cextra\\u003e\\u003c\\u002fextra\\u003e\",\"legendgroup\":\"\",\"marker\":{\"color\":\"#636efa\",\"symbol\":\"circle\"},\"mode\":\"markers\",\"name\":\"\",\"scene\":\"scene\",\"showlegend\":false,\"x\":[1.5493157294503002,-1.7524402468594307,1.163847639153413,1.813955953861072,1.8439089005144096,-1.1699383490445205,-1.324578762462084,-0.1535420095764728,-0.7557131852401575,-1.6096325524448358,-2.754297043069388,-0.019560642144782037,1.8423252752875348,0.30900519354651435,0.20719874873557753,-1.5036691094176873,2.0194024224257383,0.9953022950588868,-2.354846231695268,-1.2806316587806619,1.9374036493095126,3.0524372430643947,-0.3498187286711052,3.039116110885672,1.515364923914765,2.4120537555459993,-2.5022563617667215,3.977043036895319,1.8149433673551796,-1.7326746887269477,1.9648152193075683,3.379470442869297,3.158294939971265,3.422914173837488,0.3799694162045171,1.9401669373755617,3.243066182281285,4.0518736876307475,0.8575986887472364,2.8114709801335245,4.1397494375872546,2.964828547161477,-1.8850410659134558,4.154003068634606,2.9070846535382824,0.17848201679456466,1.7917697104668262,2.6425860999663513,-2.410069345423346,-0.9189725843476628,3.710491684931495,-2.5031681672371304,2.348357146785764,1.0587995670672137,3.0410091389971186,-0.26021626084422556,2.5650290153636846,4.006949676219585,1.6709527723419413,0.6644182548999278,2.0280133647134786,0.7625492891063166,-1.2824213342294808,-2.5699762095740195,-0.38025350036854677,2.9507674022194506,0.9483680295713595,2.654098105101574,1.6116375737006496,1.1178547350964672,0.07748260853831113,-2.1905851056708805,2.024172339078265,2.4901699421584365,3.494135713299932,-2.7185605964963333,-0.9910480628836789,0.9981086572518989,1.6087723752039862,-0.3778479587590815,3.985829602155442,3.519384185335462,-2.3664628919474198,3.2243796261583206,-2.158055500189157,-2.4851410675756247,-2.212588342638706,-1.4020640530678259,1.530699675919048,0.09271154939916748,-0.5210900937740943,3.03044654209467,2.7049703447470934,4.158771805028876,2.220986609438717,-2.2260689623701424,4.092880545481221,1.4259652245750774,1.1802499738008736,-1.1618711101120223],\"y\":[-1.5721054710336677,2.279071895693286,-0.6204604141954406,0.8687706223010938,-0.7806872731719747,3.7326332023603674,0.28839074527306385,2.202867963507515,-0.4852129825441116,-2.3322951896113464,-2.2538880402272223,-1.9162169897250427,-1.6403642493257928,-0.958873324794034,-1.2223063220817894,-1.1181153665888268,-1.5874194217966386,0.0392945134753071,3.1339265783058288,3.8885943444144706,2.0459645277519316,-0.8991839402216466,3.8284452143426257,3.1888607069580077,1.2924012982709634,-1.009500062046607,-0.938865579811373,3.105581653571882,3.413966655273909,1.5705389868082182,0.4106127917367046,0.6546535131026467,-1.9311170564211493,2.5697563815086752,0.9664120667156677,-0.44188806522917856,0.6629021317564465,2.2006809860032908,1.893705216305583,-0.34238201710432126,3.34452067046662,0.4191534089502711,-1.2234941349710855,1.594738363599995,-0.6096020878639639,1.1258696031034452,-1.6416958860782471,0.7230504985066699,1.3577185859255083,0.5311258039687163,-1.4212775234668555,3.1445536378670162,3.2778024693371854,-2.1689050216296075,1.7956038310256508,-1.0258427683057527,-1.074542765920525,3.5553310854799163,-2.057981297297859,0.008965666527818605,-2.038179413057274,-0.32336017541400075,-2.2913123015098598,0.8096619203539208,1.7852911247934449,1.7389979303819194,1.160315506736299,1.0617795023215133,-0.18651064510011395,2.4118191365052093,-0.3374386448277207,0.8485643595216277,2.5463389629386013,0.4777090935458421,0.2143254703005648,-2.369051729287912,2.118850602503704,1.405180072283585,1.7358635064780001,2.2808353242605843,1.7828092209507336,-0.6718580539627594,2.471099678935417,2.5385336203193134,3.1099355174040806,4.128850232392888,2.1106678003800123,-1.7526532299026782,0.15720689633808416,0.7997311047877655,3.518466495872617,2.7299950247320224,2.960009721413079,1.628914529719089,-2.5065859576461715,2.671554319823671,-1.7896653502059312,0.299071455899111,-1.0551742216766322,3.0608574865145544],\"z\":[5.1747950479916405,10.801999377638731,3.8187724547080144,8.157339865226678,6.974459811097323,17.67607186505118,3.331123294322533,7.923712956761523,3.044350819045433,9.753716432879893,12.01059567904549,4.789750897866726,8.736816903731835,3.6723095348013106,3.9195415836589413,4.950498135653333,8.831570947436669,3.350048805529203,16.860907630351814,20.570766853786683,11.370653098336218,12.293674625935559,16.3163487887013,23.827614147230626,6.838539492964431,9.12308089050913,8.891672476112491,29.767447420390745,19.284664868881524,9.300948973786058,6.483281931557473,14.90169275199597,15.334531874426853,23.276653295011865,5.568401488364601,4.69336500002874,14.551396911170322,24.00685690834861,7.349640275034737,9.870412021105961,34.06308426484661,12.24189596130344,7.155888734169075,23.77641801647344,9.984485201048948,2.7674135447583788,7.684372513673178,12.241909493614658,8.81252942813758,2.363059879087606,17.414010069781398,17.178431197194527,19.77192164585829,7.933869791757212,15.899303681272713,3.4147547299512393,8.190907628164574,33.60925859372284,8.579111902088098,3.360881692139851,11.201849080959528,3.74348704043199,9.184076041014642,8.937353930220683,4.41116884352416,15.563437021243258,4.481752162350842,12.400867861217447,4.904423641926261,8.822635005931648,1.9505581082495211,7.140533029208407,13.684408304571486,8.334920929554789,16.69697837732679,15.747725064236008,6.620984167841101,5.86908226819134,9.905959559402959,6.594706347488134,22.9174420542069,15.489542719538576,13.748118849435127,19.580585317836448,17.119514956467714,25.522316914886247,10.845147825699955,3.754229255633563,5.159015837513461,1.1044793126078376,16.386028677225394,19.794343377649213,21.108154641274112,23.85276410210683,11.822620293386477,13.892938784402569,21.79560081229799,3.3437795521264215,4.711730967419343,11.777901133101803],\"type\":\"scatter3d\"}],                        {\"template\":{\"data\":{\"histogram2dcontour\":[{\"type\":\"histogram2dcontour\",\"colorbar\":{\"outlinewidth\":0,\"ticks\":\"\"},\"colorscale\":[[0.0,\"#0d0887\"],[0.1111111111111111,\"#46039f\"],[0.2222222222222222,\"#7201a8\"],[0.3333333333333333,\"#9c179e\"],[0.4444444444444444,\"#bd3786\"],[0.5555555555555556,\"#d8576b\"],[0.6666666666666666,\"#ed7953\"],[0.7777777777777778,\"#fb9f3a\"],[0.8888888888888888,\"#fdca26\"],[1.0,\"#f0f921\"]]}],\"choropleth\":[{\"type\":\"choropleth\",\"colorbar\":{\"outlinewidth\":0,\"ticks\":\"\"}}],\"histogram2d\":[{\"type\":\"histogram2d\",\"colorbar\":{\"outlinewidth\":0,\"ticks\":\"\"},\"colorscale\":[[0.0,\"#0d0887\"],[0.1111111111111111,\"#46039f\"],[0.2222222222222222,\"#7201a8\"],[0.3333333333333333,\"#9c179e\"],[0.4444444444444444,\"#bd3786\"],[0.5555555555555556,\"#d8576b\"],[0.6666666666666666,\"#ed7953\"],[0.7777777777777778,\"#fb9f3a\"],[0.8888888888888888,\"#fdca26\"],[1.0,\"#f0f921\"]]}],\"heatmap\":[{\"type\":\"heatmap\",\"colorbar\":{\"outlinewidth\":0,\"ticks\":\"\"},\"colorscale\":[[0.0,\"#0d0887\"],[0.1111111111111111,\"#46039f\"],[0.2222222222222222,\"#7201a8\"],[0.3333333333333333,\"#9c179e\"],[0.4444444444444444,\"#bd3786\"],[0.5555555555555556,\"#d8576b\"],[0.6666666666666666,\"#ed7953\"],[0.7777777777777778,\"#fb9f3a\"],[0.8888888888888888,\"#fdca26\"],[1.0,\"#f0f921\"]]}],\"heatmapgl\":[{\"type\":\"heatmapgl\",\"colorbar\":{\"outlinewidth\":0,\"ticks\":\"\"},\"colorscale\":[[0.0,\"#0d0887\"],[0.1111111111111111,\"#46039f\"],[0.2222222222222222,\"#7201a8\"],[0.3333333333333333,\"#9c179e\"],[0.4444444444444444,\"#bd3786\"],[0.5555555555555556,\"#d8576b\"],[0.6666666666666666,\"#ed7953\"],[0.7777777777777778,\"#fb9f3a\"],[0.8888888888888888,\"#fdca26\"],[1.0,\"#f0f921\"]]}],\"contourcarpet\":[{\"type\":\"contourcarpet\",\"colorbar\":{\"outlinewidth\":0,\"ticks\":\"\"}}],\"contour\":[{\"type\":\"contour\",\"colorbar\":{\"outlinewidth\":0,\"ticks\":\"\"},\"colorscale\":[[0.0,\"#0d0887\"],[0.1111111111111111,\"#46039f\"],[0.2222222222222222,\"#7201a8\"],[0.3333333333333333,\"#9c179e\"],[0.4444444444444444,\"#bd3786\"],[0.5555555555555556,\"#d8576b\"],[0.6666666666666666,\"#ed7953\"],[0.7777777777777778,\"#fb9f3a\"],[0.8888888888888888,\"#fdca26\"],[1.0,\"#f0f921\"]]}],\"surface\":[{\"type\":\"surface\",\"colorbar\":{\"outlinewidth\":0,\"ticks\":\"\"},\"colorscale\":[[0.0,\"#0d0887\"],[0.1111111111111111,\"#46039f\"],[0.2222222222222222,\"#7201a8\"],[0.3333333333333333,\"#9c179e\"],[0.4444444444444444,\"#bd3786\"],[0.5555555555555556,\"#d8576b\"],[0.6666666666666666,\"#ed7953\"],[0.7777777777777778,\"#fb9f3a\"],[0.8888888888888888,\"#fdca26\"],[1.0,\"#f0f921\"]]}],\"mesh3d\":[{\"type\":\"mesh3d\",\"colorbar\":{\"outlinewidth\":0,\"ticks\":\"\"}}],\"scatter\":[{\"fillpattern\":{\"fillmode\":\"overlay\",\"size\":10,\"solidity\":0.2},\"type\":\"scatter\"}],\"parcoords\":[{\"type\":\"parcoords\",\"line\":{\"colorbar\":{\"outlinewidth\":0,\"ticks\":\"\"}}}],\"scatterpolargl\":[{\"type\":\"scatterpolargl\",\"marker\":{\"colorbar\":{\"outlinewidth\":0,\"ticks\":\"\"}}}],\"bar\":[{\"error_x\":{\"color\":\"#2a3f5f\"},\"error_y\":{\"color\":\"#2a3f5f\"},\"marker\":{\"line\":{\"color\":\"#E5ECF6\",\"width\":0.5},\"pattern\":{\"fillmode\":\"overlay\",\"size\":10,\"solidity\":0.2}},\"type\":\"bar\"}],\"scattergeo\":[{\"type\":\"scattergeo\",\"marker\":{\"colorbar\":{\"outlinewidth\":0,\"ticks\":\"\"}}}],\"scatterpolar\":[{\"type\":\"scatterpolar\",\"marker\":{\"colorbar\":{\"outlinewidth\":0,\"ticks\":\"\"}}}],\"histogram\":[{\"marker\":{\"pattern\":{\"fillmode\":\"overlay\",\"size\":10,\"solidity\":0.2}},\"type\":\"histogram\"}],\"scattergl\":[{\"type\":\"scattergl\",\"marker\":{\"colorbar\":{\"outlinewidth\":0,\"ticks\":\"\"}}}],\"scatter3d\":[{\"type\":\"scatter3d\",\"line\":{\"colorbar\":{\"outlinewidth\":0,\"ticks\":\"\"}},\"marker\":{\"colorbar\":{\"outlinewidth\":0,\"ticks\":\"\"}}}],\"scattermapbox\":[{\"type\":\"scattermapbox\",\"marker\":{\"colorbar\":{\"outlinewidth\":0,\"ticks\":\"\"}}}],\"scatterternary\":[{\"type\":\"scatterternary\",\"marker\":{\"colorbar\":{\"outlinewidth\":0,\"ticks\":\"\"}}}],\"scattercarpet\":[{\"type\":\"scattercarpet\",\"marker\":{\"colorbar\":{\"outlinewidth\":0,\"ticks\":\"\"}}}],\"carpet\":[{\"aaxis\":{\"endlinecolor\":\"#2a3f5f\",\"gridcolor\":\"white\",\"linecolor\":\"white\",\"minorgridcolor\":\"white\",\"startlinecolor\":\"#2a3f5f\"},\"baxis\":{\"endlinecolor\":\"#2a3f5f\",\"gridcolor\":\"white\",\"linecolor\":\"white\",\"minorgridcolor\":\"white\",\"startlinecolor\":\"#2a3f5f\"},\"type\":\"carpet\"}],\"table\":[{\"cells\":{\"fill\":{\"color\":\"#EBF0F8\"},\"line\":{\"color\":\"white\"}},\"header\":{\"fill\":{\"color\":\"#C8D4E3\"},\"line\":{\"color\":\"white\"}},\"type\":\"table\"}],\"barpolar\":[{\"marker\":{\"line\":{\"color\":\"#E5ECF6\",\"width\":0.5},\"pattern\":{\"fillmode\":\"overlay\",\"size\":10,\"solidity\":0.2}},\"type\":\"barpolar\"}],\"pie\":[{\"automargin\":true,\"type\":\"pie\"}]},\"layout\":{\"autotypenumbers\":\"strict\",\"colorway\":[\"#636efa\",\"#EF553B\",\"#00cc96\",\"#ab63fa\",\"#FFA15A\",\"#19d3f3\",\"#FF6692\",\"#B6E880\",\"#FF97FF\",\"#FECB52\"],\"font\":{\"color\":\"#2a3f5f\"},\"hovermode\":\"closest\",\"hoverlabel\":{\"align\":\"left\"},\"paper_bgcolor\":\"white\",\"plot_bgcolor\":\"#E5ECF6\",\"polar\":{\"bgcolor\":\"#E5ECF6\",\"angularaxis\":{\"gridcolor\":\"white\",\"linecolor\":\"white\",\"ticks\":\"\"},\"radialaxis\":{\"gridcolor\":\"white\",\"linecolor\":\"white\",\"ticks\":\"\"}},\"ternary\":{\"bgcolor\":\"#E5ECF6\",\"aaxis\":{\"gridcolor\":\"white\",\"linecolor\":\"white\",\"ticks\":\"\"},\"baxis\":{\"gridcolor\":\"white\",\"linecolor\":\"white\",\"ticks\":\"\"},\"caxis\":{\"gridcolor\":\"white\",\"linecolor\":\"white\",\"ticks\":\"\"}},\"coloraxis\":{\"colorbar\":{\"outlinewidth\":0,\"ticks\":\"\"}},\"colorscale\":{\"sequential\":[[0.0,\"#0d0887\"],[0.1111111111111111,\"#46039f\"],[0.2222222222222222,\"#7201a8\"],[0.3333333333333333,\"#9c179e\"],[0.4444444444444444,\"#bd3786\"],[0.5555555555555556,\"#d8576b\"],[0.6666666666666666,\"#ed7953\"],[0.7777777777777778,\"#fb9f3a\"],[0.8888888888888888,\"#fdca26\"],[1.0,\"#f0f921\"]],\"sequentialminus\":[[0.0,\"#0d0887\"],[0.1111111111111111,\"#46039f\"],[0.2222222222222222,\"#7201a8\"],[0.3333333333333333,\"#9c179e\"],[0.4444444444444444,\"#bd3786\"],[0.5555555555555556,\"#d8576b\"],[0.6666666666666666,\"#ed7953\"],[0.7777777777777778,\"#fb9f3a\"],[0.8888888888888888,\"#fdca26\"],[1.0,\"#f0f921\"]],\"diverging\":[[0,\"#8e0152\"],[0.1,\"#c51b7d\"],[0.2,\"#de77ae\"],[0.3,\"#f1b6da\"],[0.4,\"#fde0ef\"],[0.5,\"#f7f7f7\"],[0.6,\"#e6f5d0\"],[0.7,\"#b8e186\"],[0.8,\"#7fbc41\"],[0.9,\"#4d9221\"],[1,\"#276419\"]]},\"xaxis\":{\"gridcolor\":\"white\",\"linecolor\":\"white\",\"ticks\":\"\",\"title\":{\"standoff\":15},\"zerolinecolor\":\"white\",\"automargin\":true,\"zerolinewidth\":2},\"yaxis\":{\"gridcolor\":\"white\",\"linecolor\":\"white\",\"ticks\":\"\",\"title\":{\"standoff\":15},\"zerolinecolor\":\"white\",\"automargin\":true,\"zerolinewidth\":2},\"scene\":{\"xaxis\":{\"backgroundcolor\":\"#E5ECF6\",\"gridcolor\":\"white\",\"linecolor\":\"white\",\"showbackground\":true,\"ticks\":\"\",\"zerolinecolor\":\"white\",\"gridwidth\":2},\"yaxis\":{\"backgroundcolor\":\"#E5ECF6\",\"gridcolor\":\"white\",\"linecolor\":\"white\",\"showbackground\":true,\"ticks\":\"\",\"zerolinecolor\":\"white\",\"gridwidth\":2},\"zaxis\":{\"backgroundcolor\":\"#E5ECF6\",\"gridcolor\":\"white\",\"linecolor\":\"white\",\"showbackground\":true,\"ticks\":\"\",\"zerolinecolor\":\"white\",\"gridwidth\":2}},\"shapedefaults\":{\"line\":{\"color\":\"#2a3f5f\"}},\"annotationdefaults\":{\"arrowcolor\":\"#2a3f5f\",\"arrowhead\":0,\"arrowwidth\":1},\"geo\":{\"bgcolor\":\"white\",\"landcolor\":\"#E5ECF6\",\"subunitcolor\":\"white\",\"showland\":true,\"showlakes\":true,\"lakecolor\":\"white\"},\"title\":{\"x\":0.05},\"mapbox\":{\"style\":\"light\"}}},\"scene\":{\"domain\":{\"x\":[0.0,1.0],\"y\":[0.0,1.0]},\"xaxis\":{\"title\":{\"text\":\"x\"}},\"yaxis\":{\"title\":{\"text\":\"y\"}},\"zaxis\":{\"title\":{\"text\":\"z\"}}},\"legend\":{\"tracegroupgap\":0},\"margin\":{\"t\":60}},                        {\"responsive\": true}                    ).then(function(){\n",
       "                            \n",
       "var gd = document.getElementById('88c348bc-568e-4be7-91a2-2529c656c01d');\n",
       "var x = new MutationObserver(function (mutations, observer) {{\n",
       "        var display = window.getComputedStyle(gd).display;\n",
       "        if (!display || display === 'none') {{\n",
       "            console.log([gd, 'removed!']);\n",
       "            Plotly.purge(gd);\n",
       "            observer.disconnect();\n",
       "        }}\n",
       "}});\n",
       "\n",
       "// Listen for the removal of the full notebook cells\n",
       "var notebookContainer = gd.closest('#notebook-container');\n",
       "if (notebookContainer) {{\n",
       "    x.observe(notebookContainer, {childList: true});\n",
       "}}\n",
       "\n",
       "// Listen for the clearing of the current output cell\n",
       "var outputEl = gd.closest('.output');\n",
       "if (outputEl) {{\n",
       "    x.observe(outputEl, {childList: true});\n",
       "}}\n",
       "\n",
       "                        })                };                });            </script>        </div>"
      ]
     },
     "metadata": {},
     "output_type": "display_data"
    }
   ],
   "source": [
    "import plotly.express as px\n",
    "df = px.data.iris()\n",
    "fig = px.scatter_3d(df, x=x.ravel(), y=y.ravel(), z=z.ravel())\n",
    "fig.show()"
   ]
  },
  {
   "cell_type": "code",
   "execution_count": 24,
   "id": "26b1bd69",
   "metadata": {
    "execution": {
     "iopub.execute_input": "2023-10-19T10:35:48.048884Z",
     "iopub.status.busy": "2023-10-19T10:35:48.048314Z",
     "iopub.status.idle": "2023-10-19T10:35:48.057149Z",
     "shell.execute_reply": "2023-10-19T10:35:48.055974Z"
    },
    "papermill": {
     "duration": 0.028013,
     "end_time": "2023-10-19T10:35:48.059829",
     "exception": false,
     "start_time": "2023-10-19T10:35:48.031816",
     "status": "completed"
    },
    "tags": []
   },
   "outputs": [],
   "source": [
    "lr = LinearRegression()\n",
    "lr.fit(np.array([x,y]).reshape(100,2),z)\n",
    "\n",
    "x_input = np.linspace(x.min(), x.max(), 10)\n",
    "y_input = np.linspace(y.min(), y.max(), 10)\n",
    "xGrid, yGrid = np.meshgrid(x_input, y_input)\n",
    "\n",
    "final = np.vstack((xGrid.ravel().reshape(1,100),yGrid.ravel().reshape(1,100))).T\n",
    "z_final = lr.predict(final).reshape(10,10)\n"
   ]
  },
  {
   "cell_type": "code",
   "execution_count": 25,
   "id": "06d24fb6",
   "metadata": {
    "execution": {
     "iopub.execute_input": "2023-10-19T10:35:48.082255Z",
     "iopub.status.busy": "2023-10-19T10:35:48.081580Z",
     "iopub.status.idle": "2023-10-19T10:35:48.139229Z",
     "shell.execute_reply": "2023-10-19T10:35:48.137992Z"
    },
    "papermill": {
     "duration": 0.073043,
     "end_time": "2023-10-19T10:35:48.143041",
     "exception": false,
     "start_time": "2023-10-19T10:35:48.069998",
     "status": "completed"
    },
    "tags": []
   },
   "outputs": [
    {
     "data": {
      "text/html": [
       "<div>                            <div id=\"8508debe-99f8-439b-95df-3c1ff8b43629\" class=\"plotly-graph-div\" style=\"height:525px; width:100%;\"></div>            <script type=\"text/javascript\">                require([\"plotly\"], function(Plotly) {                    window.PLOTLYENV=window.PLOTLYENV || {};                                    if (document.getElementById(\"8508debe-99f8-439b-95df-3c1ff8b43629\")) {                    Plotly.newPlot(                        \"8508debe-99f8-439b-95df-3c1ff8b43629\",                        [{\"hovertemplate\":\"x=%{x}\\u003cbr\\u003ey=%{y}\\u003cbr\\u003ez=%{z}\\u003cextra\\u003e\\u003c\\u002fextra\\u003e\",\"legendgroup\":\"\",\"marker\":{\"color\":\"#636efa\",\"symbol\":\"circle\"},\"mode\":\"markers\",\"name\":\"\",\"scene\":\"scene\",\"showlegend\":false,\"x\":[1.5493157294503002,-1.7524402468594307,1.163847639153413,1.813955953861072,1.8439089005144096,-1.1699383490445205,-1.324578762462084,-0.1535420095764728,-0.7557131852401575,-1.6096325524448358,-2.754297043069388,-0.019560642144782037,1.8423252752875348,0.30900519354651435,0.20719874873557753,-1.5036691094176873,2.0194024224257383,0.9953022950588868,-2.354846231695268,-1.2806316587806619,1.9374036493095126,3.0524372430643947,-0.3498187286711052,3.039116110885672,1.515364923914765,2.4120537555459993,-2.5022563617667215,3.977043036895319,1.8149433673551796,-1.7326746887269477,1.9648152193075683,3.379470442869297,3.158294939971265,3.422914173837488,0.3799694162045171,1.9401669373755617,3.243066182281285,4.0518736876307475,0.8575986887472364,2.8114709801335245,4.1397494375872546,2.964828547161477,-1.8850410659134558,4.154003068634606,2.9070846535382824,0.17848201679456466,1.7917697104668262,2.6425860999663513,-2.410069345423346,-0.9189725843476628,3.710491684931495,-2.5031681672371304,2.348357146785764,1.0587995670672137,3.0410091389971186,-0.26021626084422556,2.5650290153636846,4.006949676219585,1.6709527723419413,0.6644182548999278,2.0280133647134786,0.7625492891063166,-1.2824213342294808,-2.5699762095740195,-0.38025350036854677,2.9507674022194506,0.9483680295713595,2.654098105101574,1.6116375737006496,1.1178547350964672,0.07748260853831113,-2.1905851056708805,2.024172339078265,2.4901699421584365,3.494135713299932,-2.7185605964963333,-0.9910480628836789,0.9981086572518989,1.6087723752039862,-0.3778479587590815,3.985829602155442,3.519384185335462,-2.3664628919474198,3.2243796261583206,-2.158055500189157,-2.4851410675756247,-2.212588342638706,-1.4020640530678259,1.530699675919048,0.09271154939916748,-0.5210900937740943,3.03044654209467,2.7049703447470934,4.158771805028876,2.220986609438717,-2.2260689623701424,4.092880545481221,1.4259652245750774,1.1802499738008736,-1.1618711101120223],\"y\":[-1.5721054710336677,2.279071895693286,-0.6204604141954406,0.8687706223010938,-0.7806872731719747,3.7326332023603674,0.28839074527306385,2.202867963507515,-0.4852129825441116,-2.3322951896113464,-2.2538880402272223,-1.9162169897250427,-1.6403642493257928,-0.958873324794034,-1.2223063220817894,-1.1181153665888268,-1.5874194217966386,0.0392945134753071,3.1339265783058288,3.8885943444144706,2.0459645277519316,-0.8991839402216466,3.8284452143426257,3.1888607069580077,1.2924012982709634,-1.009500062046607,-0.938865579811373,3.105581653571882,3.413966655273909,1.5705389868082182,0.4106127917367046,0.6546535131026467,-1.9311170564211493,2.5697563815086752,0.9664120667156677,-0.44188806522917856,0.6629021317564465,2.2006809860032908,1.893705216305583,-0.34238201710432126,3.34452067046662,0.4191534089502711,-1.2234941349710855,1.594738363599995,-0.6096020878639639,1.1258696031034452,-1.6416958860782471,0.7230504985066699,1.3577185859255083,0.5311258039687163,-1.4212775234668555,3.1445536378670162,3.2778024693371854,-2.1689050216296075,1.7956038310256508,-1.0258427683057527,-1.074542765920525,3.5553310854799163,-2.057981297297859,0.008965666527818605,-2.038179413057274,-0.32336017541400075,-2.2913123015098598,0.8096619203539208,1.7852911247934449,1.7389979303819194,1.160315506736299,1.0617795023215133,-0.18651064510011395,2.4118191365052093,-0.3374386448277207,0.8485643595216277,2.5463389629386013,0.4777090935458421,0.2143254703005648,-2.369051729287912,2.118850602503704,1.405180072283585,1.7358635064780001,2.2808353242605843,1.7828092209507336,-0.6718580539627594,2.471099678935417,2.5385336203193134,3.1099355174040806,4.128850232392888,2.1106678003800123,-1.7526532299026782,0.15720689633808416,0.7997311047877655,3.518466495872617,2.7299950247320224,2.960009721413079,1.628914529719089,-2.5065859576461715,2.671554319823671,-1.7896653502059312,0.299071455899111,-1.0551742216766322,3.0608574865145544],\"z\":[5.1747950479916405,10.801999377638731,3.8187724547080144,8.157339865226678,6.974459811097323,17.67607186505118,3.331123294322533,7.923712956761523,3.044350819045433,9.753716432879893,12.01059567904549,4.789750897866726,8.736816903731835,3.6723095348013106,3.9195415836589413,4.950498135653333,8.831570947436669,3.350048805529203,16.860907630351814,20.570766853786683,11.370653098336218,12.293674625935559,16.3163487887013,23.827614147230626,6.838539492964431,9.12308089050913,8.891672476112491,29.767447420390745,19.284664868881524,9.300948973786058,6.483281931557473,14.90169275199597,15.334531874426853,23.276653295011865,5.568401488364601,4.69336500002874,14.551396911170322,24.00685690834861,7.349640275034737,9.870412021105961,34.06308426484661,12.24189596130344,7.155888734169075,23.77641801647344,9.984485201048948,2.7674135447583788,7.684372513673178,12.241909493614658,8.81252942813758,2.363059879087606,17.414010069781398,17.178431197194527,19.77192164585829,7.933869791757212,15.899303681272713,3.4147547299512393,8.190907628164574,33.60925859372284,8.579111902088098,3.360881692139851,11.201849080959528,3.74348704043199,9.184076041014642,8.937353930220683,4.41116884352416,15.563437021243258,4.481752162350842,12.400867861217447,4.904423641926261,8.822635005931648,1.9505581082495211,7.140533029208407,13.684408304571486,8.334920929554789,16.69697837732679,15.747725064236008,6.620984167841101,5.86908226819134,9.905959559402959,6.594706347488134,22.9174420542069,15.489542719538576,13.748118849435127,19.580585317836448,17.119514956467714,25.522316914886247,10.845147825699955,3.754229255633563,5.159015837513461,1.1044793126078376,16.386028677225394,19.794343377649213,21.108154641274112,23.85276410210683,11.822620293386477,13.892938784402569,21.79560081229799,3.3437795521264215,4.711730967419343,11.777901133101803],\"type\":\"scatter3d\"},{\"x\":[-2.754297043069388,-1.9861782821695808,-1.2180595212697736,-0.44994076036996633,0.3181780005298407,1.0862967614296477,1.8544155223294552,2.6225342832292617,3.390653044129069,4.158771805028876],\"y\":[-2.5065859576461715,-1.769315269864054,-1.0320445820819362,-0.2947738942998184,0.4424967934822992,1.1797674812644168,1.9170381690465348,2.654308856828652,3.39157954461077,4.128850232392888],\"z\":[[10.094185428129004,10.25349962308761,10.412813818046217,10.572128013004823,10.731442207963429,10.890756402922037,11.050070597880643,11.20938479283925,11.368698987797856,11.528013182756462],[10.249138490980066,10.408452685938672,10.56776688089728,10.727081075855885,10.886395270814491,11.045709465773099,11.205023660731705,11.364337855690312,11.523652050648918,11.682966245607524],[10.404091553831128,10.563405748789734,10.722719943748341,10.882034138706947,11.041348333665553,11.20066252862416,11.359976723582767,11.519290918541374,11.67860511349998,11.837919308458586],[10.55904461668219,10.718358811640796,10.877673006599403,11.03698720155801,11.196301396516615,11.355615591475223,11.514929786433829,11.674243981392436,11.833558176351042,11.992872371309648],[10.713997679533252,10.873311874491858,11.032626069450465,11.191940264409071,11.351254459367677,11.510568654326285,11.66988284928489,11.829197044243498,11.988511239202104,12.14782543416071],[10.868950742384314,11.02826493734292,11.187579132301527,11.346893327260133,11.50620752221874,11.665521717177347,11.824835912135953,11.98415010709456,12.143464302053166,12.302778497011772],[11.023903805235376,11.183218000193982,11.34253219515259,11.501846390111195,11.661160585069801,11.820474780028409,11.979788974987015,12.13910316994562,12.298417364904228,12.457731559862834],[11.178856868086438,11.338171063045044,11.49748525800365,11.656799452962257,11.816113647920863,11.975427842879471,12.134742037838077,12.294056232796684,12.45337042775529,12.612684622713896],[11.3338099309375,11.493124125896106,11.652438320854712,11.81175251581332,11.971066710771925,12.130380905730533,12.289695100689139,12.449009295647745,12.608323490606352,12.767637685564958],[11.488762993788562,11.648077188747168,11.807391383705774,11.966705578664381,12.126019773622987,12.285333968581595,12.4446481635402,12.603962358498809,12.763276553457414,12.92259074841602]],\"type\":\"surface\"}],                        {\"template\":{\"data\":{\"histogram2dcontour\":[{\"type\":\"histogram2dcontour\",\"colorbar\":{\"outlinewidth\":0,\"ticks\":\"\"},\"colorscale\":[[0.0,\"#0d0887\"],[0.1111111111111111,\"#46039f\"],[0.2222222222222222,\"#7201a8\"],[0.3333333333333333,\"#9c179e\"],[0.4444444444444444,\"#bd3786\"],[0.5555555555555556,\"#d8576b\"],[0.6666666666666666,\"#ed7953\"],[0.7777777777777778,\"#fb9f3a\"],[0.8888888888888888,\"#fdca26\"],[1.0,\"#f0f921\"]]}],\"choropleth\":[{\"type\":\"choropleth\",\"colorbar\":{\"outlinewidth\":0,\"ticks\":\"\"}}],\"histogram2d\":[{\"type\":\"histogram2d\",\"colorbar\":{\"outlinewidth\":0,\"ticks\":\"\"},\"colorscale\":[[0.0,\"#0d0887\"],[0.1111111111111111,\"#46039f\"],[0.2222222222222222,\"#7201a8\"],[0.3333333333333333,\"#9c179e\"],[0.4444444444444444,\"#bd3786\"],[0.5555555555555556,\"#d8576b\"],[0.6666666666666666,\"#ed7953\"],[0.7777777777777778,\"#fb9f3a\"],[0.8888888888888888,\"#fdca26\"],[1.0,\"#f0f921\"]]}],\"heatmap\":[{\"type\":\"heatmap\",\"colorbar\":{\"outlinewidth\":0,\"ticks\":\"\"},\"colorscale\":[[0.0,\"#0d0887\"],[0.1111111111111111,\"#46039f\"],[0.2222222222222222,\"#7201a8\"],[0.3333333333333333,\"#9c179e\"],[0.4444444444444444,\"#bd3786\"],[0.5555555555555556,\"#d8576b\"],[0.6666666666666666,\"#ed7953\"],[0.7777777777777778,\"#fb9f3a\"],[0.8888888888888888,\"#fdca26\"],[1.0,\"#f0f921\"]]}],\"heatmapgl\":[{\"type\":\"heatmapgl\",\"colorbar\":{\"outlinewidth\":0,\"ticks\":\"\"},\"colorscale\":[[0.0,\"#0d0887\"],[0.1111111111111111,\"#46039f\"],[0.2222222222222222,\"#7201a8\"],[0.3333333333333333,\"#9c179e\"],[0.4444444444444444,\"#bd3786\"],[0.5555555555555556,\"#d8576b\"],[0.6666666666666666,\"#ed7953\"],[0.7777777777777778,\"#fb9f3a\"],[0.8888888888888888,\"#fdca26\"],[1.0,\"#f0f921\"]]}],\"contourcarpet\":[{\"type\":\"contourcarpet\",\"colorbar\":{\"outlinewidth\":0,\"ticks\":\"\"}}],\"contour\":[{\"type\":\"contour\",\"colorbar\":{\"outlinewidth\":0,\"ticks\":\"\"},\"colorscale\":[[0.0,\"#0d0887\"],[0.1111111111111111,\"#46039f\"],[0.2222222222222222,\"#7201a8\"],[0.3333333333333333,\"#9c179e\"],[0.4444444444444444,\"#bd3786\"],[0.5555555555555556,\"#d8576b\"],[0.6666666666666666,\"#ed7953\"],[0.7777777777777778,\"#fb9f3a\"],[0.8888888888888888,\"#fdca26\"],[1.0,\"#f0f921\"]]}],\"surface\":[{\"type\":\"surface\",\"colorbar\":{\"outlinewidth\":0,\"ticks\":\"\"},\"colorscale\":[[0.0,\"#0d0887\"],[0.1111111111111111,\"#46039f\"],[0.2222222222222222,\"#7201a8\"],[0.3333333333333333,\"#9c179e\"],[0.4444444444444444,\"#bd3786\"],[0.5555555555555556,\"#d8576b\"],[0.6666666666666666,\"#ed7953\"],[0.7777777777777778,\"#fb9f3a\"],[0.8888888888888888,\"#fdca26\"],[1.0,\"#f0f921\"]]}],\"mesh3d\":[{\"type\":\"mesh3d\",\"colorbar\":{\"outlinewidth\":0,\"ticks\":\"\"}}],\"scatter\":[{\"fillpattern\":{\"fillmode\":\"overlay\",\"size\":10,\"solidity\":0.2},\"type\":\"scatter\"}],\"parcoords\":[{\"type\":\"parcoords\",\"line\":{\"colorbar\":{\"outlinewidth\":0,\"ticks\":\"\"}}}],\"scatterpolargl\":[{\"type\":\"scatterpolargl\",\"marker\":{\"colorbar\":{\"outlinewidth\":0,\"ticks\":\"\"}}}],\"bar\":[{\"error_x\":{\"color\":\"#2a3f5f\"},\"error_y\":{\"color\":\"#2a3f5f\"},\"marker\":{\"line\":{\"color\":\"#E5ECF6\",\"width\":0.5},\"pattern\":{\"fillmode\":\"overlay\",\"size\":10,\"solidity\":0.2}},\"type\":\"bar\"}],\"scattergeo\":[{\"type\":\"scattergeo\",\"marker\":{\"colorbar\":{\"outlinewidth\":0,\"ticks\":\"\"}}}],\"scatterpolar\":[{\"type\":\"scatterpolar\",\"marker\":{\"colorbar\":{\"outlinewidth\":0,\"ticks\":\"\"}}}],\"histogram\":[{\"marker\":{\"pattern\":{\"fillmode\":\"overlay\",\"size\":10,\"solidity\":0.2}},\"type\":\"histogram\"}],\"scattergl\":[{\"type\":\"scattergl\",\"marker\":{\"colorbar\":{\"outlinewidth\":0,\"ticks\":\"\"}}}],\"scatter3d\":[{\"type\":\"scatter3d\",\"line\":{\"colorbar\":{\"outlinewidth\":0,\"ticks\":\"\"}},\"marker\":{\"colorbar\":{\"outlinewidth\":0,\"ticks\":\"\"}}}],\"scattermapbox\":[{\"type\":\"scattermapbox\",\"marker\":{\"colorbar\":{\"outlinewidth\":0,\"ticks\":\"\"}}}],\"scatterternary\":[{\"type\":\"scatterternary\",\"marker\":{\"colorbar\":{\"outlinewidth\":0,\"ticks\":\"\"}}}],\"scattercarpet\":[{\"type\":\"scattercarpet\",\"marker\":{\"colorbar\":{\"outlinewidth\":0,\"ticks\":\"\"}}}],\"carpet\":[{\"aaxis\":{\"endlinecolor\":\"#2a3f5f\",\"gridcolor\":\"white\",\"linecolor\":\"white\",\"minorgridcolor\":\"white\",\"startlinecolor\":\"#2a3f5f\"},\"baxis\":{\"endlinecolor\":\"#2a3f5f\",\"gridcolor\":\"white\",\"linecolor\":\"white\",\"minorgridcolor\":\"white\",\"startlinecolor\":\"#2a3f5f\"},\"type\":\"carpet\"}],\"table\":[{\"cells\":{\"fill\":{\"color\":\"#EBF0F8\"},\"line\":{\"color\":\"white\"}},\"header\":{\"fill\":{\"color\":\"#C8D4E3\"},\"line\":{\"color\":\"white\"}},\"type\":\"table\"}],\"barpolar\":[{\"marker\":{\"line\":{\"color\":\"#E5ECF6\",\"width\":0.5},\"pattern\":{\"fillmode\":\"overlay\",\"size\":10,\"solidity\":0.2}},\"type\":\"barpolar\"}],\"pie\":[{\"automargin\":true,\"type\":\"pie\"}]},\"layout\":{\"autotypenumbers\":\"strict\",\"colorway\":[\"#636efa\",\"#EF553B\",\"#00cc96\",\"#ab63fa\",\"#FFA15A\",\"#19d3f3\",\"#FF6692\",\"#B6E880\",\"#FF97FF\",\"#FECB52\"],\"font\":{\"color\":\"#2a3f5f\"},\"hovermode\":\"closest\",\"hoverlabel\":{\"align\":\"left\"},\"paper_bgcolor\":\"white\",\"plot_bgcolor\":\"#E5ECF6\",\"polar\":{\"bgcolor\":\"#E5ECF6\",\"angularaxis\":{\"gridcolor\":\"white\",\"linecolor\":\"white\",\"ticks\":\"\"},\"radialaxis\":{\"gridcolor\":\"white\",\"linecolor\":\"white\",\"ticks\":\"\"}},\"ternary\":{\"bgcolor\":\"#E5ECF6\",\"aaxis\":{\"gridcolor\":\"white\",\"linecolor\":\"white\",\"ticks\":\"\"},\"baxis\":{\"gridcolor\":\"white\",\"linecolor\":\"white\",\"ticks\":\"\"},\"caxis\":{\"gridcolor\":\"white\",\"linecolor\":\"white\",\"ticks\":\"\"}},\"coloraxis\":{\"colorbar\":{\"outlinewidth\":0,\"ticks\":\"\"}},\"colorscale\":{\"sequential\":[[0.0,\"#0d0887\"],[0.1111111111111111,\"#46039f\"],[0.2222222222222222,\"#7201a8\"],[0.3333333333333333,\"#9c179e\"],[0.4444444444444444,\"#bd3786\"],[0.5555555555555556,\"#d8576b\"],[0.6666666666666666,\"#ed7953\"],[0.7777777777777778,\"#fb9f3a\"],[0.8888888888888888,\"#fdca26\"],[1.0,\"#f0f921\"]],\"sequentialminus\":[[0.0,\"#0d0887\"],[0.1111111111111111,\"#46039f\"],[0.2222222222222222,\"#7201a8\"],[0.3333333333333333,\"#9c179e\"],[0.4444444444444444,\"#bd3786\"],[0.5555555555555556,\"#d8576b\"],[0.6666666666666666,\"#ed7953\"],[0.7777777777777778,\"#fb9f3a\"],[0.8888888888888888,\"#fdca26\"],[1.0,\"#f0f921\"]],\"diverging\":[[0,\"#8e0152\"],[0.1,\"#c51b7d\"],[0.2,\"#de77ae\"],[0.3,\"#f1b6da\"],[0.4,\"#fde0ef\"],[0.5,\"#f7f7f7\"],[0.6,\"#e6f5d0\"],[0.7,\"#b8e186\"],[0.8,\"#7fbc41\"],[0.9,\"#4d9221\"],[1,\"#276419\"]]},\"xaxis\":{\"gridcolor\":\"white\",\"linecolor\":\"white\",\"ticks\":\"\",\"title\":{\"standoff\":15},\"zerolinecolor\":\"white\",\"automargin\":true,\"zerolinewidth\":2},\"yaxis\":{\"gridcolor\":\"white\",\"linecolor\":\"white\",\"ticks\":\"\",\"title\":{\"standoff\":15},\"zerolinecolor\":\"white\",\"automargin\":true,\"zerolinewidth\":2},\"scene\":{\"xaxis\":{\"backgroundcolor\":\"#E5ECF6\",\"gridcolor\":\"white\",\"linecolor\":\"white\",\"showbackground\":true,\"ticks\":\"\",\"zerolinecolor\":\"white\",\"gridwidth\":2},\"yaxis\":{\"backgroundcolor\":\"#E5ECF6\",\"gridcolor\":\"white\",\"linecolor\":\"white\",\"showbackground\":true,\"ticks\":\"\",\"zerolinecolor\":\"white\",\"gridwidth\":2},\"zaxis\":{\"backgroundcolor\":\"#E5ECF6\",\"gridcolor\":\"white\",\"linecolor\":\"white\",\"showbackground\":true,\"ticks\":\"\",\"zerolinecolor\":\"white\",\"gridwidth\":2}},\"shapedefaults\":{\"line\":{\"color\":\"#2a3f5f\"}},\"annotationdefaults\":{\"arrowcolor\":\"#2a3f5f\",\"arrowhead\":0,\"arrowwidth\":1},\"geo\":{\"bgcolor\":\"white\",\"landcolor\":\"#E5ECF6\",\"subunitcolor\":\"white\",\"showland\":true,\"showlakes\":true,\"lakecolor\":\"white\"},\"title\":{\"x\":0.05},\"mapbox\":{\"style\":\"light\"}}},\"scene\":{\"domain\":{\"x\":[0.0,1.0],\"y\":[0.0,1.0]},\"xaxis\":{\"title\":{\"text\":\"x\"}},\"yaxis\":{\"title\":{\"text\":\"y\"}},\"zaxis\":{\"title\":{\"text\":\"z\"}}},\"legend\":{\"tracegroupgap\":0},\"margin\":{\"t\":60}},                        {\"responsive\": true}                    ).then(function(){\n",
       "                            \n",
       "var gd = document.getElementById('8508debe-99f8-439b-95df-3c1ff8b43629');\n",
       "var x = new MutationObserver(function (mutations, observer) {{\n",
       "        var display = window.getComputedStyle(gd).display;\n",
       "        if (!display || display === 'none') {{\n",
       "            console.log([gd, 'removed!']);\n",
       "            Plotly.purge(gd);\n",
       "            observer.disconnect();\n",
       "        }}\n",
       "}});\n",
       "\n",
       "// Listen for the removal of the full notebook cells\n",
       "var notebookContainer = gd.closest('#notebook-container');\n",
       "if (notebookContainer) {{\n",
       "    x.observe(notebookContainer, {childList: true});\n",
       "}}\n",
       "\n",
       "// Listen for the clearing of the current output cell\n",
       "var outputEl = gd.closest('.output');\n",
       "if (outputEl) {{\n",
       "    x.observe(outputEl, {childList: true});\n",
       "}}\n",
       "\n",
       "                        })                };                });            </script>        </div>"
      ]
     },
     "metadata": {},
     "output_type": "display_data"
    }
   ],
   "source": [
    "import plotly.graph_objects as go\n",
    "\n",
    "fig = px.scatter_3d(df, x=x.ravel(), y=y.ravel(), z=z.ravel())\n",
    "\n",
    "fig.add_trace(go.Surface(x = x_input, y = y_input, z =z_final ))\n",
    "\n",
    "fig.show()"
   ]
  },
  {
   "cell_type": "code",
   "execution_count": 26,
   "id": "fea7fa2a",
   "metadata": {
    "execution": {
     "iopub.execute_input": "2023-10-19T10:35:48.171244Z",
     "iopub.status.busy": "2023-10-19T10:35:48.170911Z",
     "iopub.status.idle": "2023-10-19T10:35:48.177690Z",
     "shell.execute_reply": "2023-10-19T10:35:48.176578Z"
    },
    "papermill": {
     "duration": 0.021653,
     "end_time": "2023-10-19T10:35:48.179871",
     "exception": false,
     "start_time": "2023-10-19T10:35:48.158218",
     "status": "completed"
    },
    "tags": []
   },
   "outputs": [
    {
     "data": {
      "text/plain": [
       "(100, 2)"
      ]
     },
     "execution_count": 26,
     "metadata": {},
     "output_type": "execute_result"
    }
   ],
   "source": [
    "X_multi = np.array([x,y]).reshape(100,2)\n",
    "X_multi.shape"
   ]
  },
  {
   "cell_type": "code",
   "execution_count": 27,
   "id": "33332e87",
   "metadata": {
    "execution": {
     "iopub.execute_input": "2023-10-19T10:35:48.206184Z",
     "iopub.status.busy": "2023-10-19T10:35:48.205277Z",
     "iopub.status.idle": "2023-10-19T10:35:48.213107Z",
     "shell.execute_reply": "2023-10-19T10:35:48.211192Z"
    },
    "papermill": {
     "duration": 0.023522,
     "end_time": "2023-10-19T10:35:48.216117",
     "exception": false,
     "start_time": "2023-10-19T10:35:48.192595",
     "status": "completed"
    },
    "tags": []
   },
   "outputs": [],
   "source": [
    "poly = PolynomialFeatures(degree=2)\n",
    "X_multi_trans = poly.fit_transform(X_multi)"
   ]
  },
  {
   "cell_type": "code",
   "execution_count": 28,
   "id": "2442448e",
   "metadata": {
    "execution": {
     "iopub.execute_input": "2023-10-19T10:35:48.242181Z",
     "iopub.status.busy": "2023-10-19T10:35:48.241351Z",
     "iopub.status.idle": "2023-10-19T10:35:48.248371Z",
     "shell.execute_reply": "2023-10-19T10:35:48.247616Z"
    },
    "papermill": {
     "duration": 0.023417,
     "end_time": "2023-10-19T10:35:48.251942",
     "exception": false,
     "start_time": "2023-10-19T10:35:48.228525",
     "status": "completed"
    },
    "tags": []
   },
   "outputs": [
    {
     "name": "stdout",
     "output_type": "stream",
     "text": [
      "Ouput 6\n",
      "Powers\n",
      " [[0 0]\n",
      " [1 0]\n",
      " [0 1]\n",
      " [2 0]\n",
      " [1 1]\n",
      " [0 2]]\n"
     ]
    }
   ],
   "source": [
    "# print(\"Input\",poly.n_input_features_)\n",
    "print(\"Ouput\",poly.n_output_features_)\n",
    "print(\"Powers\\n\",poly.powers_)"
   ]
  },
  {
   "cell_type": "code",
   "execution_count": 29,
   "id": "505c4bf0",
   "metadata": {
    "execution": {
     "iopub.execute_input": "2023-10-19T10:35:48.277175Z",
     "iopub.status.busy": "2023-10-19T10:35:48.276822Z",
     "iopub.status.idle": "2023-10-19T10:35:48.282705Z",
     "shell.execute_reply": "2023-10-19T10:35:48.281718Z"
    },
    "papermill": {
     "duration": 0.019908,
     "end_time": "2023-10-19T10:35:48.284657",
     "exception": false,
     "start_time": "2023-10-19T10:35:48.264749",
     "status": "completed"
    },
    "tags": []
   },
   "outputs": [
    {
     "data": {
      "text/plain": [
       "(100, 6)"
      ]
     },
     "execution_count": 29,
     "metadata": {},
     "output_type": "execute_result"
    }
   ],
   "source": [
    "X_multi_trans.shape\n"
   ]
  },
  {
   "cell_type": "code",
   "execution_count": 30,
   "id": "21630711",
   "metadata": {
    "execution": {
     "iopub.execute_input": "2023-10-19T10:35:48.308424Z",
     "iopub.status.busy": "2023-10-19T10:35:48.307402Z",
     "iopub.status.idle": "2023-10-19T10:35:48.316407Z",
     "shell.execute_reply": "2023-10-19T10:35:48.315450Z"
    },
    "papermill": {
     "duration": 0.023338,
     "end_time": "2023-10-19T10:35:48.318650",
     "exception": false,
     "start_time": "2023-10-19T10:35:48.295312",
     "status": "completed"
    },
    "tags": []
   },
   "outputs": [
    {
     "data": {
      "text/html": [
       "<style>#sk-container-id-3 {color: black;background-color: white;}#sk-container-id-3 pre{padding: 0;}#sk-container-id-3 div.sk-toggleable {background-color: white;}#sk-container-id-3 label.sk-toggleable__label {cursor: pointer;display: block;width: 100%;margin-bottom: 0;padding: 0.3em;box-sizing: border-box;text-align: center;}#sk-container-id-3 label.sk-toggleable__label-arrow:before {content: \"▸\";float: left;margin-right: 0.25em;color: #696969;}#sk-container-id-3 label.sk-toggleable__label-arrow:hover:before {color: black;}#sk-container-id-3 div.sk-estimator:hover label.sk-toggleable__label-arrow:before {color: black;}#sk-container-id-3 div.sk-toggleable__content {max-height: 0;max-width: 0;overflow: hidden;text-align: left;background-color: #f0f8ff;}#sk-container-id-3 div.sk-toggleable__content pre {margin: 0.2em;color: black;border-radius: 0.25em;background-color: #f0f8ff;}#sk-container-id-3 input.sk-toggleable__control:checked~div.sk-toggleable__content {max-height: 200px;max-width: 100%;overflow: auto;}#sk-container-id-3 input.sk-toggleable__control:checked~label.sk-toggleable__label-arrow:before {content: \"▾\";}#sk-container-id-3 div.sk-estimator input.sk-toggleable__control:checked~label.sk-toggleable__label {background-color: #d4ebff;}#sk-container-id-3 div.sk-label input.sk-toggleable__control:checked~label.sk-toggleable__label {background-color: #d4ebff;}#sk-container-id-3 input.sk-hidden--visually {border: 0;clip: rect(1px 1px 1px 1px);clip: rect(1px, 1px, 1px, 1px);height: 1px;margin: -1px;overflow: hidden;padding: 0;position: absolute;width: 1px;}#sk-container-id-3 div.sk-estimator {font-family: monospace;background-color: #f0f8ff;border: 1px dotted black;border-radius: 0.25em;box-sizing: border-box;margin-bottom: 0.5em;}#sk-container-id-3 div.sk-estimator:hover {background-color: #d4ebff;}#sk-container-id-3 div.sk-parallel-item::after {content: \"\";width: 100%;border-bottom: 1px solid gray;flex-grow: 1;}#sk-container-id-3 div.sk-label:hover label.sk-toggleable__label {background-color: #d4ebff;}#sk-container-id-3 div.sk-serial::before {content: \"\";position: absolute;border-left: 1px solid gray;box-sizing: border-box;top: 0;bottom: 0;left: 50%;z-index: 0;}#sk-container-id-3 div.sk-serial {display: flex;flex-direction: column;align-items: center;background-color: white;padding-right: 0.2em;padding-left: 0.2em;position: relative;}#sk-container-id-3 div.sk-item {position: relative;z-index: 1;}#sk-container-id-3 div.sk-parallel {display: flex;align-items: stretch;justify-content: center;background-color: white;position: relative;}#sk-container-id-3 div.sk-item::before, #sk-container-id-3 div.sk-parallel-item::before {content: \"\";position: absolute;border-left: 1px solid gray;box-sizing: border-box;top: 0;bottom: 0;left: 50%;z-index: -1;}#sk-container-id-3 div.sk-parallel-item {display: flex;flex-direction: column;z-index: 1;position: relative;background-color: white;}#sk-container-id-3 div.sk-parallel-item:first-child::after {align-self: flex-end;width: 50%;}#sk-container-id-3 div.sk-parallel-item:last-child::after {align-self: flex-start;width: 50%;}#sk-container-id-3 div.sk-parallel-item:only-child::after {width: 0;}#sk-container-id-3 div.sk-dashed-wrapped {border: 1px dashed gray;margin: 0 0.4em 0.5em 0.4em;box-sizing: border-box;padding-bottom: 0.4em;background-color: white;}#sk-container-id-3 div.sk-label label {font-family: monospace;font-weight: bold;display: inline-block;line-height: 1.2em;}#sk-container-id-3 div.sk-label-container {text-align: center;}#sk-container-id-3 div.sk-container {/* jupyter's `normalize.less` sets `[hidden] { display: none; }` but bootstrap.min.css set `[hidden] { display: none !important; }` so we also need the `!important` here to be able to override the default hidden behavior on the sphinx rendered scikit-learn.org. See: https://github.com/scikit-learn/scikit-learn/issues/21755 */display: inline-block !important;position: relative;}#sk-container-id-3 div.sk-text-repr-fallback {display: none;}</style><div id=\"sk-container-id-3\" class=\"sk-top-container\"><div class=\"sk-text-repr-fallback\"><pre>LinearRegression()</pre><b>In a Jupyter environment, please rerun this cell to show the HTML representation or trust the notebook. <br />On GitHub, the HTML representation is unable to render, please try loading this page with nbviewer.org.</b></div><div class=\"sk-container\" hidden><div class=\"sk-item\"><div class=\"sk-estimator sk-toggleable\"><input class=\"sk-toggleable__control sk-hidden--visually\" id=\"sk-estimator-id-3\" type=\"checkbox\" checked><label for=\"sk-estimator-id-3\" class=\"sk-toggleable__label sk-toggleable__label-arrow\">LinearRegression</label><div class=\"sk-toggleable__content\"><pre>LinearRegression()</pre></div></div></div></div></div>"
      ],
      "text/plain": [
       "LinearRegression()"
      ]
     },
     "execution_count": 30,
     "metadata": {},
     "output_type": "execute_result"
    }
   ],
   "source": [
    "lr = LinearRegression()\n",
    "lr.fit(X_multi_trans,z)"
   ]
  },
  {
   "cell_type": "code",
   "execution_count": 31,
   "id": "62e031c7",
   "metadata": {
    "execution": {
     "iopub.execute_input": "2023-10-19T10:35:48.342246Z",
     "iopub.status.busy": "2023-10-19T10:35:48.341829Z",
     "iopub.status.idle": "2023-10-19T10:35:48.346962Z",
     "shell.execute_reply": "2023-10-19T10:35:48.345970Z"
    },
    "papermill": {
     "duration": 0.019255,
     "end_time": "2023-10-19T10:35:48.348855",
     "exception": false,
     "start_time": "2023-10-19T10:35:48.329600",
     "status": "completed"
    },
    "tags": []
   },
   "outputs": [],
   "source": [
    "X_test_multi = poly.transform(final)\n"
   ]
  },
  {
   "cell_type": "code",
   "execution_count": 32,
   "id": "41de74a8",
   "metadata": {
    "execution": {
     "iopub.execute_input": "2023-10-19T10:35:48.373506Z",
     "iopub.status.busy": "2023-10-19T10:35:48.372358Z",
     "iopub.status.idle": "2023-10-19T10:35:48.378157Z",
     "shell.execute_reply": "2023-10-19T10:35:48.376983Z"
    },
    "papermill": {
     "duration": 0.020406,
     "end_time": "2023-10-19T10:35:48.380417",
     "exception": false,
     "start_time": "2023-10-19T10:35:48.360011",
     "status": "completed"
    },
    "tags": []
   },
   "outputs": [],
   "source": [
    "z_final = lr.predict(X_multi_trans).reshape(10,10)\n"
   ]
  },
  {
   "cell_type": "code",
   "execution_count": 33,
   "id": "57cc498b",
   "metadata": {
    "execution": {
     "iopub.execute_input": "2023-10-19T10:35:48.404693Z",
     "iopub.status.busy": "2023-10-19T10:35:48.404292Z",
     "iopub.status.idle": "2023-10-19T10:35:48.460643Z",
     "shell.execute_reply": "2023-10-19T10:35:48.459771Z"
    },
    "papermill": {
     "duration": 0.071536,
     "end_time": "2023-10-19T10:35:48.462996",
     "exception": false,
     "start_time": "2023-10-19T10:35:48.391460",
     "status": "completed"
    },
    "tags": []
   },
   "outputs": [
    {
     "data": {
      "text/html": [
       "<div>                            <div id=\"223da382-1c04-4de1-961a-a80e948048e5\" class=\"plotly-graph-div\" style=\"height:525px; width:100%;\"></div>            <script type=\"text/javascript\">                require([\"plotly\"], function(Plotly) {                    window.PLOTLYENV=window.PLOTLYENV || {};                                    if (document.getElementById(\"223da382-1c04-4de1-961a-a80e948048e5\")) {                    Plotly.newPlot(                        \"223da382-1c04-4de1-961a-a80e948048e5\",                        [{\"hovertemplate\":\"x=%{x}\\u003cbr\\u003ey=%{y}\\u003cbr\\u003ez=%{z}\\u003cextra\\u003e\\u003c\\u002fextra\\u003e\",\"legendgroup\":\"\",\"marker\":{\"color\":\"#636efa\",\"symbol\":\"circle\"},\"mode\":\"markers\",\"name\":\"\",\"scene\":\"scene\",\"showlegend\":false,\"x\":[1.5493157294503002,-1.7524402468594307,1.163847639153413,1.813955953861072,1.8439089005144096,-1.1699383490445205,-1.324578762462084,-0.1535420095764728,-0.7557131852401575,-1.6096325524448358,-2.754297043069388,-0.019560642144782037,1.8423252752875348,0.30900519354651435,0.20719874873557753,-1.5036691094176873,2.0194024224257383,0.9953022950588868,-2.354846231695268,-1.2806316587806619,1.9374036493095126,3.0524372430643947,-0.3498187286711052,3.039116110885672,1.515364923914765,2.4120537555459993,-2.5022563617667215,3.977043036895319,1.8149433673551796,-1.7326746887269477,1.9648152193075683,3.379470442869297,3.158294939971265,3.422914173837488,0.3799694162045171,1.9401669373755617,3.243066182281285,4.0518736876307475,0.8575986887472364,2.8114709801335245,4.1397494375872546,2.964828547161477,-1.8850410659134558,4.154003068634606,2.9070846535382824,0.17848201679456466,1.7917697104668262,2.6425860999663513,-2.410069345423346,-0.9189725843476628,3.710491684931495,-2.5031681672371304,2.348357146785764,1.0587995670672137,3.0410091389971186,-0.26021626084422556,2.5650290153636846,4.006949676219585,1.6709527723419413,0.6644182548999278,2.0280133647134786,0.7625492891063166,-1.2824213342294808,-2.5699762095740195,-0.38025350036854677,2.9507674022194506,0.9483680295713595,2.654098105101574,1.6116375737006496,1.1178547350964672,0.07748260853831113,-2.1905851056708805,2.024172339078265,2.4901699421584365,3.494135713299932,-2.7185605964963333,-0.9910480628836789,0.9981086572518989,1.6087723752039862,-0.3778479587590815,3.985829602155442,3.519384185335462,-2.3664628919474198,3.2243796261583206,-2.158055500189157,-2.4851410675756247,-2.212588342638706,-1.4020640530678259,1.530699675919048,0.09271154939916748,-0.5210900937740943,3.03044654209467,2.7049703447470934,4.158771805028876,2.220986609438717,-2.2260689623701424,4.092880545481221,1.4259652245750774,1.1802499738008736,-1.1618711101120223],\"y\":[-1.5721054710336677,2.279071895693286,-0.6204604141954406,0.8687706223010938,-0.7806872731719747,3.7326332023603674,0.28839074527306385,2.202867963507515,-0.4852129825441116,-2.3322951896113464,-2.2538880402272223,-1.9162169897250427,-1.6403642493257928,-0.958873324794034,-1.2223063220817894,-1.1181153665888268,-1.5874194217966386,0.0392945134753071,3.1339265783058288,3.8885943444144706,2.0459645277519316,-0.8991839402216466,3.8284452143426257,3.1888607069580077,1.2924012982709634,-1.009500062046607,-0.938865579811373,3.105581653571882,3.413966655273909,1.5705389868082182,0.4106127917367046,0.6546535131026467,-1.9311170564211493,2.5697563815086752,0.9664120667156677,-0.44188806522917856,0.6629021317564465,2.2006809860032908,1.893705216305583,-0.34238201710432126,3.34452067046662,0.4191534089502711,-1.2234941349710855,1.594738363599995,-0.6096020878639639,1.1258696031034452,-1.6416958860782471,0.7230504985066699,1.3577185859255083,0.5311258039687163,-1.4212775234668555,3.1445536378670162,3.2778024693371854,-2.1689050216296075,1.7956038310256508,-1.0258427683057527,-1.074542765920525,3.5553310854799163,-2.057981297297859,0.008965666527818605,-2.038179413057274,-0.32336017541400075,-2.2913123015098598,0.8096619203539208,1.7852911247934449,1.7389979303819194,1.160315506736299,1.0617795023215133,-0.18651064510011395,2.4118191365052093,-0.3374386448277207,0.8485643595216277,2.5463389629386013,0.4777090935458421,0.2143254703005648,-2.369051729287912,2.118850602503704,1.405180072283585,1.7358635064780001,2.2808353242605843,1.7828092209507336,-0.6718580539627594,2.471099678935417,2.5385336203193134,3.1099355174040806,4.128850232392888,2.1106678003800123,-1.7526532299026782,0.15720689633808416,0.7997311047877655,3.518466495872617,2.7299950247320224,2.960009721413079,1.628914529719089,-2.5065859576461715,2.671554319823671,-1.7896653502059312,0.299071455899111,-1.0551742216766322,3.0608574865145544],\"z\":[5.1747950479916405,10.801999377638731,3.8187724547080144,8.157339865226678,6.974459811097323,17.67607186505118,3.331123294322533,7.923712956761523,3.044350819045433,9.753716432879893,12.01059567904549,4.789750897866726,8.736816903731835,3.6723095348013106,3.9195415836589413,4.950498135653333,8.831570947436669,3.350048805529203,16.860907630351814,20.570766853786683,11.370653098336218,12.293674625935559,16.3163487887013,23.827614147230626,6.838539492964431,9.12308089050913,8.891672476112491,29.767447420390745,19.284664868881524,9.300948973786058,6.483281931557473,14.90169275199597,15.334531874426853,23.276653295011865,5.568401488364601,4.69336500002874,14.551396911170322,24.00685690834861,7.349640275034737,9.870412021105961,34.06308426484661,12.24189596130344,7.155888734169075,23.77641801647344,9.984485201048948,2.7674135447583788,7.684372513673178,12.241909493614658,8.81252942813758,2.363059879087606,17.414010069781398,17.178431197194527,19.77192164585829,7.933869791757212,15.899303681272713,3.4147547299512393,8.190907628164574,33.60925859372284,8.579111902088098,3.360881692139851,11.201849080959528,3.74348704043199,9.184076041014642,8.937353930220683,4.41116884352416,15.563437021243258,4.481752162350842,12.400867861217447,4.904423641926261,8.822635005931648,1.9505581082495211,7.140533029208407,13.684408304571486,8.334920929554789,16.69697837732679,15.747725064236008,6.620984167841101,5.86908226819134,9.905959559402959,6.594706347488134,22.9174420542069,15.489542719538576,13.748118849435127,19.580585317836448,17.119514956467714,25.522316914886247,10.845147825699955,3.754229255633563,5.159015837513461,1.1044793126078376,16.386028677225394,19.794343377649213,21.108154641274112,23.85276410210683,11.822620293386477,13.892938784402569,21.79560081229799,3.3437795521264215,4.711730967419343,11.777901133101803],\"type\":\"scatter3d\"},{\"x\":[-2.754297043069388,-1.9861782821695808,-1.2180595212697736,-0.44994076036996633,0.3181780005298407,1.0862967614296477,1.8544155223294552,2.6225342832292617,3.390653044129069,4.158771805028876],\"y\":[-2.5065859576461715,-1.769315269864054,-1.0320445820819362,-0.2947738942998184,0.4424967934822992,1.1797674812644168,1.9170381690465348,2.654308856828652,3.39157954461077,4.128850232392888],\"z\":[[10.671796824674013,11.276854358401035,10.728595795542368,11.03835298255591,11.190924145539666,11.687229459175295,11.03818225441204,10.831082294757001,11.348409975138281,11.99510645744679],[12.349214417816833,11.126382013569302,11.71027928650974,10.955097772641102,10.675365332553291,12.581363065719795,13.727526322274088,11.036752033006909,14.378540971356596,11.535961890065384],[14.417339115733697,11.035285505565723,11.455504024015791,12.003677360626497,11.859338523142286,10.881676056673257,11.544205750659986,11.340532004879437,13.598791657569633,11.085675866130371],[11.262474260761243,11.8745485489471,11.092498436275564,11.513450840437448,11.21331906566312,11.00887844822507,12.076417731629535,10.77826492215833,10.811199596043545,10.812174901915482],[14.760860664988215,10.913950807982781,12.507004501583745,11.953660371654632,10.89035150774894,11.074740378968533,13.873252474358864,10.664499639334233,13.071933553346073,10.688666502128072],[10.849743148593813,10.779834000097269,11.197799385874626,11.0821922385995,11.297229141132185,12.254382387161199,11.41036058230505,11.254181183011521,11.090123206395486,14.105475401216573],[10.804053052843326,14.261102760937417,10.697735690128546,10.994700810960245,12.569195231844773,10.789145827320185,10.87592481344014,10.722356807396004,11.21121426290472,10.88369626057302],[11.830410408630861,10.82124736521183,10.78343929553704,10.971168008462397,10.948721925061948,10.927545709122695,10.836686853909729,10.740895870888723,11.067182475207954,11.298125233324722],[11.39638178904363,11.177298607523962,11.545571447196167,11.031052431852213,11.00526884429753,10.76877741107624,11.395734348472963,11.002698647382092,11.575801517724372,11.77618491245699],[10.793227383447114,12.437313283637108,14.295850251838232,10.693425151729587,10.782127610909761,13.526763944811334,12.245851173871952,10.944702661378269,11.10520392094605,10.964400925237346]],\"type\":\"surface\"}],                        {\"template\":{\"data\":{\"histogram2dcontour\":[{\"type\":\"histogram2dcontour\",\"colorbar\":{\"outlinewidth\":0,\"ticks\":\"\"},\"colorscale\":[[0.0,\"#0d0887\"],[0.1111111111111111,\"#46039f\"],[0.2222222222222222,\"#7201a8\"],[0.3333333333333333,\"#9c179e\"],[0.4444444444444444,\"#bd3786\"],[0.5555555555555556,\"#d8576b\"],[0.6666666666666666,\"#ed7953\"],[0.7777777777777778,\"#fb9f3a\"],[0.8888888888888888,\"#fdca26\"],[1.0,\"#f0f921\"]]}],\"choropleth\":[{\"type\":\"choropleth\",\"colorbar\":{\"outlinewidth\":0,\"ticks\":\"\"}}],\"histogram2d\":[{\"type\":\"histogram2d\",\"colorbar\":{\"outlinewidth\":0,\"ticks\":\"\"},\"colorscale\":[[0.0,\"#0d0887\"],[0.1111111111111111,\"#46039f\"],[0.2222222222222222,\"#7201a8\"],[0.3333333333333333,\"#9c179e\"],[0.4444444444444444,\"#bd3786\"],[0.5555555555555556,\"#d8576b\"],[0.6666666666666666,\"#ed7953\"],[0.7777777777777778,\"#fb9f3a\"],[0.8888888888888888,\"#fdca26\"],[1.0,\"#f0f921\"]]}],\"heatmap\":[{\"type\":\"heatmap\",\"colorbar\":{\"outlinewidth\":0,\"ticks\":\"\"},\"colorscale\":[[0.0,\"#0d0887\"],[0.1111111111111111,\"#46039f\"],[0.2222222222222222,\"#7201a8\"],[0.3333333333333333,\"#9c179e\"],[0.4444444444444444,\"#bd3786\"],[0.5555555555555556,\"#d8576b\"],[0.6666666666666666,\"#ed7953\"],[0.7777777777777778,\"#fb9f3a\"],[0.8888888888888888,\"#fdca26\"],[1.0,\"#f0f921\"]]}],\"heatmapgl\":[{\"type\":\"heatmapgl\",\"colorbar\":{\"outlinewidth\":0,\"ticks\":\"\"},\"colorscale\":[[0.0,\"#0d0887\"],[0.1111111111111111,\"#46039f\"],[0.2222222222222222,\"#7201a8\"],[0.3333333333333333,\"#9c179e\"],[0.4444444444444444,\"#bd3786\"],[0.5555555555555556,\"#d8576b\"],[0.6666666666666666,\"#ed7953\"],[0.7777777777777778,\"#fb9f3a\"],[0.8888888888888888,\"#fdca26\"],[1.0,\"#f0f921\"]]}],\"contourcarpet\":[{\"type\":\"contourcarpet\",\"colorbar\":{\"outlinewidth\":0,\"ticks\":\"\"}}],\"contour\":[{\"type\":\"contour\",\"colorbar\":{\"outlinewidth\":0,\"ticks\":\"\"},\"colorscale\":[[0.0,\"#0d0887\"],[0.1111111111111111,\"#46039f\"],[0.2222222222222222,\"#7201a8\"],[0.3333333333333333,\"#9c179e\"],[0.4444444444444444,\"#bd3786\"],[0.5555555555555556,\"#d8576b\"],[0.6666666666666666,\"#ed7953\"],[0.7777777777777778,\"#fb9f3a\"],[0.8888888888888888,\"#fdca26\"],[1.0,\"#f0f921\"]]}],\"surface\":[{\"type\":\"surface\",\"colorbar\":{\"outlinewidth\":0,\"ticks\":\"\"},\"colorscale\":[[0.0,\"#0d0887\"],[0.1111111111111111,\"#46039f\"],[0.2222222222222222,\"#7201a8\"],[0.3333333333333333,\"#9c179e\"],[0.4444444444444444,\"#bd3786\"],[0.5555555555555556,\"#d8576b\"],[0.6666666666666666,\"#ed7953\"],[0.7777777777777778,\"#fb9f3a\"],[0.8888888888888888,\"#fdca26\"],[1.0,\"#f0f921\"]]}],\"mesh3d\":[{\"type\":\"mesh3d\",\"colorbar\":{\"outlinewidth\":0,\"ticks\":\"\"}}],\"scatter\":[{\"fillpattern\":{\"fillmode\":\"overlay\",\"size\":10,\"solidity\":0.2},\"type\":\"scatter\"}],\"parcoords\":[{\"type\":\"parcoords\",\"line\":{\"colorbar\":{\"outlinewidth\":0,\"ticks\":\"\"}}}],\"scatterpolargl\":[{\"type\":\"scatterpolargl\",\"marker\":{\"colorbar\":{\"outlinewidth\":0,\"ticks\":\"\"}}}],\"bar\":[{\"error_x\":{\"color\":\"#2a3f5f\"},\"error_y\":{\"color\":\"#2a3f5f\"},\"marker\":{\"line\":{\"color\":\"#E5ECF6\",\"width\":0.5},\"pattern\":{\"fillmode\":\"overlay\",\"size\":10,\"solidity\":0.2}},\"type\":\"bar\"}],\"scattergeo\":[{\"type\":\"scattergeo\",\"marker\":{\"colorbar\":{\"outlinewidth\":0,\"ticks\":\"\"}}}],\"scatterpolar\":[{\"type\":\"scatterpolar\",\"marker\":{\"colorbar\":{\"outlinewidth\":0,\"ticks\":\"\"}}}],\"histogram\":[{\"marker\":{\"pattern\":{\"fillmode\":\"overlay\",\"size\":10,\"solidity\":0.2}},\"type\":\"histogram\"}],\"scattergl\":[{\"type\":\"scattergl\",\"marker\":{\"colorbar\":{\"outlinewidth\":0,\"ticks\":\"\"}}}],\"scatter3d\":[{\"type\":\"scatter3d\",\"line\":{\"colorbar\":{\"outlinewidth\":0,\"ticks\":\"\"}},\"marker\":{\"colorbar\":{\"outlinewidth\":0,\"ticks\":\"\"}}}],\"scattermapbox\":[{\"type\":\"scattermapbox\",\"marker\":{\"colorbar\":{\"outlinewidth\":0,\"ticks\":\"\"}}}],\"scatterternary\":[{\"type\":\"scatterternary\",\"marker\":{\"colorbar\":{\"outlinewidth\":0,\"ticks\":\"\"}}}],\"scattercarpet\":[{\"type\":\"scattercarpet\",\"marker\":{\"colorbar\":{\"outlinewidth\":0,\"ticks\":\"\"}}}],\"carpet\":[{\"aaxis\":{\"endlinecolor\":\"#2a3f5f\",\"gridcolor\":\"white\",\"linecolor\":\"white\",\"minorgridcolor\":\"white\",\"startlinecolor\":\"#2a3f5f\"},\"baxis\":{\"endlinecolor\":\"#2a3f5f\",\"gridcolor\":\"white\",\"linecolor\":\"white\",\"minorgridcolor\":\"white\",\"startlinecolor\":\"#2a3f5f\"},\"type\":\"carpet\"}],\"table\":[{\"cells\":{\"fill\":{\"color\":\"#EBF0F8\"},\"line\":{\"color\":\"white\"}},\"header\":{\"fill\":{\"color\":\"#C8D4E3\"},\"line\":{\"color\":\"white\"}},\"type\":\"table\"}],\"barpolar\":[{\"marker\":{\"line\":{\"color\":\"#E5ECF6\",\"width\":0.5},\"pattern\":{\"fillmode\":\"overlay\",\"size\":10,\"solidity\":0.2}},\"type\":\"barpolar\"}],\"pie\":[{\"automargin\":true,\"type\":\"pie\"}]},\"layout\":{\"autotypenumbers\":\"strict\",\"colorway\":[\"#636efa\",\"#EF553B\",\"#00cc96\",\"#ab63fa\",\"#FFA15A\",\"#19d3f3\",\"#FF6692\",\"#B6E880\",\"#FF97FF\",\"#FECB52\"],\"font\":{\"color\":\"#2a3f5f\"},\"hovermode\":\"closest\",\"hoverlabel\":{\"align\":\"left\"},\"paper_bgcolor\":\"white\",\"plot_bgcolor\":\"#E5ECF6\",\"polar\":{\"bgcolor\":\"#E5ECF6\",\"angularaxis\":{\"gridcolor\":\"white\",\"linecolor\":\"white\",\"ticks\":\"\"},\"radialaxis\":{\"gridcolor\":\"white\",\"linecolor\":\"white\",\"ticks\":\"\"}},\"ternary\":{\"bgcolor\":\"#E5ECF6\",\"aaxis\":{\"gridcolor\":\"white\",\"linecolor\":\"white\",\"ticks\":\"\"},\"baxis\":{\"gridcolor\":\"white\",\"linecolor\":\"white\",\"ticks\":\"\"},\"caxis\":{\"gridcolor\":\"white\",\"linecolor\":\"white\",\"ticks\":\"\"}},\"coloraxis\":{\"colorbar\":{\"outlinewidth\":0,\"ticks\":\"\"}},\"colorscale\":{\"sequential\":[[0.0,\"#0d0887\"],[0.1111111111111111,\"#46039f\"],[0.2222222222222222,\"#7201a8\"],[0.3333333333333333,\"#9c179e\"],[0.4444444444444444,\"#bd3786\"],[0.5555555555555556,\"#d8576b\"],[0.6666666666666666,\"#ed7953\"],[0.7777777777777778,\"#fb9f3a\"],[0.8888888888888888,\"#fdca26\"],[1.0,\"#f0f921\"]],\"sequentialminus\":[[0.0,\"#0d0887\"],[0.1111111111111111,\"#46039f\"],[0.2222222222222222,\"#7201a8\"],[0.3333333333333333,\"#9c179e\"],[0.4444444444444444,\"#bd3786\"],[0.5555555555555556,\"#d8576b\"],[0.6666666666666666,\"#ed7953\"],[0.7777777777777778,\"#fb9f3a\"],[0.8888888888888888,\"#fdca26\"],[1.0,\"#f0f921\"]],\"diverging\":[[0,\"#8e0152\"],[0.1,\"#c51b7d\"],[0.2,\"#de77ae\"],[0.3,\"#f1b6da\"],[0.4,\"#fde0ef\"],[0.5,\"#f7f7f7\"],[0.6,\"#e6f5d0\"],[0.7,\"#b8e186\"],[0.8,\"#7fbc41\"],[0.9,\"#4d9221\"],[1,\"#276419\"]]},\"xaxis\":{\"gridcolor\":\"white\",\"linecolor\":\"white\",\"ticks\":\"\",\"title\":{\"standoff\":15},\"zerolinecolor\":\"white\",\"automargin\":true,\"zerolinewidth\":2},\"yaxis\":{\"gridcolor\":\"white\",\"linecolor\":\"white\",\"ticks\":\"\",\"title\":{\"standoff\":15},\"zerolinecolor\":\"white\",\"automargin\":true,\"zerolinewidth\":2},\"scene\":{\"xaxis\":{\"backgroundcolor\":\"#E5ECF6\",\"gridcolor\":\"white\",\"linecolor\":\"white\",\"showbackground\":true,\"ticks\":\"\",\"zerolinecolor\":\"white\",\"gridwidth\":2},\"yaxis\":{\"backgroundcolor\":\"#E5ECF6\",\"gridcolor\":\"white\",\"linecolor\":\"white\",\"showbackground\":true,\"ticks\":\"\",\"zerolinecolor\":\"white\",\"gridwidth\":2},\"zaxis\":{\"backgroundcolor\":\"#E5ECF6\",\"gridcolor\":\"white\",\"linecolor\":\"white\",\"showbackground\":true,\"ticks\":\"\",\"zerolinecolor\":\"white\",\"gridwidth\":2}},\"shapedefaults\":{\"line\":{\"color\":\"#2a3f5f\"}},\"annotationdefaults\":{\"arrowcolor\":\"#2a3f5f\",\"arrowhead\":0,\"arrowwidth\":1},\"geo\":{\"bgcolor\":\"white\",\"landcolor\":\"#E5ECF6\",\"subunitcolor\":\"white\",\"showland\":true,\"showlakes\":true,\"lakecolor\":\"white\"},\"title\":{\"x\":0.05},\"mapbox\":{\"style\":\"light\"}}},\"scene\":{\"domain\":{\"x\":[0.0,1.0],\"y\":[0.0,1.0]},\"xaxis\":{\"title\":{\"text\":\"x\"}},\"yaxis\":{\"title\":{\"text\":\"y\"}},\"zaxis\":{\"title\":{\"text\":\"z\"},\"range\":[0,35]}},\"legend\":{\"tracegroupgap\":0},\"margin\":{\"t\":60}},                        {\"responsive\": true}                    ).then(function(){\n",
       "                            \n",
       "var gd = document.getElementById('223da382-1c04-4de1-961a-a80e948048e5');\n",
       "var x = new MutationObserver(function (mutations, observer) {{\n",
       "        var display = window.getComputedStyle(gd).display;\n",
       "        if (!display || display === 'none') {{\n",
       "            console.log([gd, 'removed!']);\n",
       "            Plotly.purge(gd);\n",
       "            observer.disconnect();\n",
       "        }}\n",
       "}});\n",
       "\n",
       "// Listen for the removal of the full notebook cells\n",
       "var notebookContainer = gd.closest('#notebook-container');\n",
       "if (notebookContainer) {{\n",
       "    x.observe(notebookContainer, {childList: true});\n",
       "}}\n",
       "\n",
       "// Listen for the clearing of the current output cell\n",
       "var outputEl = gd.closest('.output');\n",
       "if (outputEl) {{\n",
       "    x.observe(outputEl, {childList: true});\n",
       "}}\n",
       "\n",
       "                        })                };                });            </script>        </div>"
      ]
     },
     "metadata": {},
     "output_type": "display_data"
    }
   ],
   "source": [
    "fig = px.scatter_3d(x=x.ravel(), y=y.ravel(), z=z.ravel())\n",
    "\n",
    "fig.add_trace(go.Surface(x = x_input, y = y_input, z =z_final))\n",
    "\n",
    "fig.update_layout(scene = dict(zaxis = dict(range=[0,35])))\n",
    "\n",
    "fig.show()"
   ]
  },
  {
   "cell_type": "code",
   "execution_count": null,
   "id": "f88f6cd0",
   "metadata": {
    "papermill": {
     "duration": 0.01119,
     "end_time": "2023-10-19T10:35:48.485695",
     "exception": false,
     "start_time": "2023-10-19T10:35:48.474505",
     "status": "completed"
    },
    "tags": []
   },
   "outputs": [],
   "source": []
  }
 ],
 "metadata": {
  "kernelspec": {
   "display_name": "Python 3",
   "language": "python",
   "name": "python3"
  },
  "language_info": {
   "codemirror_mode": {
    "name": "ipython",
    "version": 3
   },
   "file_extension": ".py",
   "mimetype": "text/x-python",
   "name": "python",
   "nbconvert_exporter": "python",
   "pygments_lexer": "ipython3",
   "version": "3.10.12"
  },
  "papermill": {
   "default_parameters": {},
   "duration": 10.982408,
   "end_time": "2023-10-19T10:35:49.217810",
   "environment_variables": {},
   "exception": null,
   "input_path": "__notebook__.ipynb",
   "output_path": "__notebook__.ipynb",
   "parameters": {},
   "start_time": "2023-10-19T10:35:38.235402",
   "version": "2.4.0"
  }
 },
 "nbformat": 4,
 "nbformat_minor": 5
}
